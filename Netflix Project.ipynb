{
 "cells": [
  {
   "cell_type": "code",
   "execution_count": 222,
   "id": "2730b05d",
   "metadata": {},
   "outputs": [
    {
     "data": {
      "text/html": [
       "<div>\n",
       "<style scoped>\n",
       "    .dataframe tbody tr th:only-of-type {\n",
       "        vertical-align: middle;\n",
       "    }\n",
       "\n",
       "    .dataframe tbody tr th {\n",
       "        vertical-align: top;\n",
       "    }\n",
       "\n",
       "    .dataframe thead th {\n",
       "        text-align: right;\n",
       "    }\n",
       "</style>\n",
       "<table border=\"1\" class=\"dataframe\">\n",
       "  <thead>\n",
       "    <tr style=\"text-align: right;\">\n",
       "      <th></th>\n",
       "      <th>Profile Name</th>\n",
       "      <th>Start Time</th>\n",
       "      <th>Duration</th>\n",
       "      <th>Attributes</th>\n",
       "      <th>Title</th>\n",
       "      <th>Supplemental Video Type</th>\n",
       "      <th>Device Type</th>\n",
       "      <th>Bookmark</th>\n",
       "      <th>Latest Bookmark</th>\n",
       "      <th>Country</th>\n",
       "    </tr>\n",
       "  </thead>\n",
       "  <tbody>\n",
       "    <tr>\n",
       "      <th>0</th>\n",
       "      <td>Kids</td>\n",
       "      <td>2025-04-03 15:06:38</td>\n",
       "      <td>00:02:42</td>\n",
       "      <td>NaN</td>\n",
       "      <td>Raising Dion: Season 2: ISSUE #205: You vs. Me...</td>\n",
       "      <td>NaN</td>\n",
       "      <td>Amazon Fire TV Stick 2020 Lite Streaming Stick</td>\n",
       "      <td>00:02:42</td>\n",
       "      <td>00:02:42</td>\n",
       "      <td>IN (India)</td>\n",
       "    </tr>\n",
       "    <tr>\n",
       "      <th>1</th>\n",
       "      <td>Kids</td>\n",
       "      <td>2025-04-03 15:06:11</td>\n",
       "      <td>00:00:01</td>\n",
       "      <td>Autoplayed: user action: None;</td>\n",
       "      <td>Raising Dion: Season 1: ISSUE #101: How Do You...</td>\n",
       "      <td>NaN</td>\n",
       "      <td>Amazon Fire TV Stick 2020 Lite Streaming Stick</td>\n",
       "      <td>00:00:01</td>\n",
       "      <td>00:00:01</td>\n",
       "      <td>IN (India)</td>\n",
       "    </tr>\n",
       "    <tr>\n",
       "      <th>2</th>\n",
       "      <td>Kids</td>\n",
       "      <td>2023-12-27 13:26:10</td>\n",
       "      <td>00:00:37</td>\n",
       "      <td>NaN</td>\n",
       "      <td>STAND BY ME Doraemon 2</td>\n",
       "      <td>NaN</td>\n",
       "      <td>Reliance Jio JHSD200 MVPD STB</td>\n",
       "      <td>00:00:38</td>\n",
       "      <td>00:00:38</td>\n",
       "      <td>IN (India)</td>\n",
       "    </tr>\n",
       "    <tr>\n",
       "      <th>3</th>\n",
       "      <td>Kids</td>\n",
       "      <td>2023-02-22 14:56:53</td>\n",
       "      <td>00:17:57</td>\n",
       "      <td>Autoplayed: user action: User_Interaction;</td>\n",
       "      <td>Chillar Party</td>\n",
       "      <td>NaN</td>\n",
       "      <td>Reliance Jio JHSD200 MVPD STB</td>\n",
       "      <td>00:17:57</td>\n",
       "      <td>00:17:57</td>\n",
       "      <td>IN (India)</td>\n",
       "    </tr>\n",
       "    <tr>\n",
       "      <th>4</th>\n",
       "      <td>Kids</td>\n",
       "      <td>2023-02-20 18:22:26</td>\n",
       "      <td>00:00:01</td>\n",
       "      <td>Autoplayed: user action: None;</td>\n",
       "      <td>Kung Fu Panda: The Dragon Knight: Season 1: A ...</td>\n",
       "      <td>NaN</td>\n",
       "      <td>Reliance Jio JHSD200 MVPD STB</td>\n",
       "      <td>00:00:01</td>\n",
       "      <td>00:00:01</td>\n",
       "      <td>IN (India)</td>\n",
       "    </tr>\n",
       "    <tr>\n",
       "      <th>5</th>\n",
       "      <td>Kids</td>\n",
       "      <td>2023-02-20 18:21:52</td>\n",
       "      <td>00:00:12</td>\n",
       "      <td>Autoplayed: user action: User_Interaction;</td>\n",
       "      <td>Kung Fu Panda: The Dragon Knight: Season 1: A ...</td>\n",
       "      <td>NaN</td>\n",
       "      <td>Reliance Jio JHSD200 MVPD STB</td>\n",
       "      <td>00:00:12</td>\n",
       "      <td>Not latest view</td>\n",
       "      <td>IN (India)</td>\n",
       "    </tr>\n",
       "    <tr>\n",
       "      <th>6</th>\n",
       "      <td>Mayank</td>\n",
       "      <td>2025-04-05 07:16:23</td>\n",
       "      <td>00:40:06</td>\n",
       "      <td>NaN</td>\n",
       "      <td>Ozark: Season 3: Boss Fight (Episode 4)</td>\n",
       "      <td>NaN</td>\n",
       "      <td>Android DefaultWidevineL3Phone Android Phone</td>\n",
       "      <td>00:39:57</td>\n",
       "      <td>00:39:57</td>\n",
       "      <td>IN (India)</td>\n",
       "    </tr>\n",
       "    <tr>\n",
       "      <th>7</th>\n",
       "      <td>Mayank</td>\n",
       "      <td>2025-04-05 07:01:23</td>\n",
       "      <td>00:14:01</td>\n",
       "      <td>NaN</td>\n",
       "      <td>Ozark: Season 3: Kevin Cronin Was Here (Episod...</td>\n",
       "      <td>NaN</td>\n",
       "      <td>Android DefaultWidevineL3Phone Android Phone</td>\n",
       "      <td>00:56:19</td>\n",
       "      <td>00:56:19</td>\n",
       "      <td>IN (India)</td>\n",
       "    </tr>\n",
       "    <tr>\n",
       "      <th>8</th>\n",
       "      <td>Mayank</td>\n",
       "      <td>2025-04-04 16:59:48</td>\n",
       "      <td>01:19:20</td>\n",
       "      <td>NaN</td>\n",
       "      <td>The Big Short</td>\n",
       "      <td>NaN</td>\n",
       "      <td>Android DefaultWidevineL3Phone Android Phone</td>\n",
       "      <td>02:04:54</td>\n",
       "      <td>02:04:54</td>\n",
       "      <td>IN (India)</td>\n",
       "    </tr>\n",
       "    <tr>\n",
       "      <th>9</th>\n",
       "      <td>Mayank</td>\n",
       "      <td>2025-04-04 16:54:17</td>\n",
       "      <td>00:00:20</td>\n",
       "      <td>Autoplayed: user action: None;</td>\n",
       "      <td>The Big Short_hook_primary_16x9_backfill</td>\n",
       "      <td>HOOK</td>\n",
       "      <td>Android DefaultWidevineL3Phone Android Phone</td>\n",
       "      <td>00:00:19</td>\n",
       "      <td>00:00:19</td>\n",
       "      <td>IN (India)</td>\n",
       "    </tr>\n",
       "  </tbody>\n",
       "</table>\n",
       "</div>"
      ],
      "text/plain": [
       "  Profile Name           Start Time  Duration  \\\n",
       "0         Kids  2025-04-03 15:06:38  00:02:42   \n",
       "1         Kids  2025-04-03 15:06:11  00:00:01   \n",
       "2         Kids  2023-12-27 13:26:10  00:00:37   \n",
       "3         Kids  2023-02-22 14:56:53  00:17:57   \n",
       "4         Kids  2023-02-20 18:22:26  00:00:01   \n",
       "5         Kids  2023-02-20 18:21:52  00:00:12   \n",
       "6       Mayank  2025-04-05 07:16:23  00:40:06   \n",
       "7       Mayank  2025-04-05 07:01:23  00:14:01   \n",
       "8       Mayank  2025-04-04 16:59:48  01:19:20   \n",
       "9       Mayank  2025-04-04 16:54:17  00:00:20   \n",
       "\n",
       "                                    Attributes  \\\n",
       "0                                          NaN   \n",
       "1              Autoplayed: user action: None;    \n",
       "2                                          NaN   \n",
       "3  Autoplayed: user action: User_Interaction;    \n",
       "4              Autoplayed: user action: None;    \n",
       "5  Autoplayed: user action: User_Interaction;    \n",
       "6                                          NaN   \n",
       "7                                          NaN   \n",
       "8                                          NaN   \n",
       "9              Autoplayed: user action: None;    \n",
       "\n",
       "                                               Title Supplemental Video Type  \\\n",
       "0  Raising Dion: Season 2: ISSUE #205: You vs. Me...                     NaN   \n",
       "1  Raising Dion: Season 1: ISSUE #101: How Do You...                     NaN   \n",
       "2                             STAND BY ME Doraemon 2                     NaN   \n",
       "3                                      Chillar Party                     NaN   \n",
       "4  Kung Fu Panda: The Dragon Knight: Season 1: A ...                     NaN   \n",
       "5  Kung Fu Panda: The Dragon Knight: Season 1: A ...                     NaN   \n",
       "6            Ozark: Season 3: Boss Fight (Episode 4)                     NaN   \n",
       "7  Ozark: Season 3: Kevin Cronin Was Here (Episod...                     NaN   \n",
       "8                                      The Big Short                     NaN   \n",
       "9           The Big Short_hook_primary_16x9_backfill                    HOOK   \n",
       "\n",
       "                                      Device Type  Bookmark  Latest Bookmark  \\\n",
       "0  Amazon Fire TV Stick 2020 Lite Streaming Stick  00:02:42         00:02:42   \n",
       "1  Amazon Fire TV Stick 2020 Lite Streaming Stick  00:00:01         00:00:01   \n",
       "2                   Reliance Jio JHSD200 MVPD STB  00:00:38         00:00:38   \n",
       "3                   Reliance Jio JHSD200 MVPD STB  00:17:57         00:17:57   \n",
       "4                   Reliance Jio JHSD200 MVPD STB  00:00:01         00:00:01   \n",
       "5                   Reliance Jio JHSD200 MVPD STB  00:00:12  Not latest view   \n",
       "6    Android DefaultWidevineL3Phone Android Phone  00:39:57         00:39:57   \n",
       "7    Android DefaultWidevineL3Phone Android Phone  00:56:19         00:56:19   \n",
       "8    Android DefaultWidevineL3Phone Android Phone  02:04:54         02:04:54   \n",
       "9    Android DefaultWidevineL3Phone Android Phone  00:00:19         00:00:19   \n",
       "\n",
       "      Country  \n",
       "0  IN (India)  \n",
       "1  IN (India)  \n",
       "2  IN (India)  \n",
       "3  IN (India)  \n",
       "4  IN (India)  \n",
       "5  IN (India)  \n",
       "6  IN (India)  \n",
       "7  IN (India)  \n",
       "8  IN (India)  \n",
       "9  IN (India)  "
      ]
     },
     "execution_count": 222,
     "metadata": {},
     "output_type": "execute_result"
    }
   ],
   "source": [
    "import pandas as pd\n",
    "df = pd.read_csv(\"ViewingActivity.csv\")\n",
    "df.head(10)"
   ]
  },
  {
   "cell_type": "code",
   "execution_count": 223,
   "id": "89d4055f",
   "metadata": {},
   "outputs": [
    {
     "data": {
      "text/plain": [
       "(6734, 10)"
      ]
     },
     "execution_count": 223,
     "metadata": {},
     "output_type": "execute_result"
    }
   ],
   "source": [
    "df.shape"
   ]
  },
  {
   "cell_type": "code",
   "execution_count": 224,
   "id": "e5814f1f",
   "metadata": {},
   "outputs": [
    {
     "data": {
      "text/html": [
       "<div>\n",
       "<style scoped>\n",
       "    .dataframe tbody tr th:only-of-type {\n",
       "        vertical-align: middle;\n",
       "    }\n",
       "\n",
       "    .dataframe tbody tr th {\n",
       "        vertical-align: top;\n",
       "    }\n",
       "\n",
       "    .dataframe thead th {\n",
       "        text-align: right;\n",
       "    }\n",
       "</style>\n",
       "<table border=\"1\" class=\"dataframe\">\n",
       "  <thead>\n",
       "    <tr style=\"text-align: right;\">\n",
       "      <th></th>\n",
       "      <th>Profile Name</th>\n",
       "      <th>Start Time</th>\n",
       "      <th>Duration</th>\n",
       "      <th>Attributes</th>\n",
       "      <th>Title</th>\n",
       "      <th>Supplemental Video Type</th>\n",
       "      <th>Device Type</th>\n",
       "      <th>Bookmark</th>\n",
       "      <th>Latest Bookmark</th>\n",
       "      <th>Country</th>\n",
       "    </tr>\n",
       "  </thead>\n",
       "  <tbody>\n",
       "    <tr>\n",
       "      <th>4957</th>\n",
       "      <td>Nishu</td>\n",
       "      <td>2023-10-27 15:09:27</td>\n",
       "      <td>00:03:16</td>\n",
       "      <td>NaN</td>\n",
       "      <td>Friends: Season 10: The One with the Cake (Epi...</td>\n",
       "      <td>NaN</td>\n",
       "      <td>Reliance Jio JHSD200 MVPD STB</td>\n",
       "      <td>00:03:16</td>\n",
       "      <td>Not latest view</td>\n",
       "      <td>IN (India)</td>\n",
       "    </tr>\n",
       "    <tr>\n",
       "      <th>1141</th>\n",
       "      <td>Mohit</td>\n",
       "      <td>2023-06-21 14:25:54</td>\n",
       "      <td>00:32:46</td>\n",
       "      <td>NaN</td>\n",
       "      <td>Mowgli: Legend of the Jungle</td>\n",
       "      <td>NaN</td>\n",
       "      <td>Xiaomi dangal SmartTV</td>\n",
       "      <td>00:32:49</td>\n",
       "      <td>Not latest view</td>\n",
       "      <td>IN (India)</td>\n",
       "    </tr>\n",
       "    <tr>\n",
       "      <th>3499</th>\n",
       "      <td>Nishu</td>\n",
       "      <td>2024-06-16 16:09:25</td>\n",
       "      <td>00:00:04</td>\n",
       "      <td>Autoplayed: user action: None;</td>\n",
       "      <td>NoGlobalVideo-CannotLocalize-81575156-en</td>\n",
       "      <td>HOOK</td>\n",
       "      <td>Reliance Jio JHSD200 MVPD STB</td>\n",
       "      <td>00:00:04</td>\n",
       "      <td>Not latest view</td>\n",
       "      <td>IN (India)</td>\n",
       "    </tr>\n",
       "    <tr>\n",
       "      <th>2806</th>\n",
       "      <td>Nishu</td>\n",
       "      <td>2024-09-05 20:29:00</td>\n",
       "      <td>00:45:09</td>\n",
       "      <td>NaN</td>\n",
       "      <td>KAOS: Season 1: Episode 1</td>\n",
       "      <td>NaN</td>\n",
       "      <td>Amazon Fire TV Stick 2020 Lite Streaming Stick</td>\n",
       "      <td>00:45:09</td>\n",
       "      <td>00:45:09</td>\n",
       "      <td>IN (India)</td>\n",
       "    </tr>\n",
       "    <tr>\n",
       "      <th>523</th>\n",
       "      <td>Mayank</td>\n",
       "      <td>2024-06-08 07:27:02</td>\n",
       "      <td>00:33:27</td>\n",
       "      <td>NaN</td>\n",
       "      <td>Monk: Season 5: Mr. Monk, Private Eye (Episode 5)</td>\n",
       "      <td>NaN</td>\n",
       "      <td>Reliance Jio JHSD200 MVPD STB</td>\n",
       "      <td>00:33:27</td>\n",
       "      <td>Not latest view</td>\n",
       "      <td>IN (India)</td>\n",
       "    </tr>\n",
       "    <tr>\n",
       "      <th>2183</th>\n",
       "      <td>Nishu</td>\n",
       "      <td>2024-10-04 12:06:31</td>\n",
       "      <td>00:00:05</td>\n",
       "      <td>Autoplayed: user action: None;</td>\n",
       "      <td>Season 1 Main Character Intro Clip: One of Us ...</td>\n",
       "      <td>HOOK</td>\n",
       "      <td>Amazon Fire TV Stick 2020 Lite Streaming Stick</td>\n",
       "      <td>00:00:05</td>\n",
       "      <td>00:00:05</td>\n",
       "      <td>IN (India)</td>\n",
       "    </tr>\n",
       "    <tr>\n",
       "      <th>4338</th>\n",
       "      <td>Nishu</td>\n",
       "      <td>2023-12-10 10:42:30</td>\n",
       "      <td>00:00:10</td>\n",
       "      <td>Autoplayed: user action: None;</td>\n",
       "      <td>NoGlobalVideo-CannotLocalize-81730925-en</td>\n",
       "      <td>HOOK</td>\n",
       "      <td>Reliance Jio JHSD200 MVPD STB</td>\n",
       "      <td>00:00:10</td>\n",
       "      <td>Not latest view</td>\n",
       "      <td>IN (India)</td>\n",
       "    </tr>\n",
       "    <tr>\n",
       "      <th>6538</th>\n",
       "      <td>Nishu</td>\n",
       "      <td>2023-01-28 18:13:33</td>\n",
       "      <td>00:20:16</td>\n",
       "      <td>NaN</td>\n",
       "      <td>VINLAND SAGA: Season 1: Episode 16</td>\n",
       "      <td>NaN</td>\n",
       "      <td>Chrome PC (Cadmium)</td>\n",
       "      <td>00:23:14</td>\n",
       "      <td>00:23:14</td>\n",
       "      <td>IN (India)</td>\n",
       "    </tr>\n",
       "    <tr>\n",
       "      <th>3963</th>\n",
       "      <td>Nishu</td>\n",
       "      <td>2024-01-20 19:38:27</td>\n",
       "      <td>00:21:25</td>\n",
       "      <td>NaN</td>\n",
       "      <td>The Disastrous Life of Saiki K.: Season 2: Epi...</td>\n",
       "      <td>NaN</td>\n",
       "      <td>Chrome PC (Cadmium)</td>\n",
       "      <td>00:22:03</td>\n",
       "      <td>00:22:03</td>\n",
       "      <td>IN (India)</td>\n",
       "    </tr>\n",
       "    <tr>\n",
       "      <th>3029</th>\n",
       "      <td>Nishu</td>\n",
       "      <td>2024-08-21 18:25:10</td>\n",
       "      <td>01:33:37</td>\n",
       "      <td>NaN</td>\n",
       "      <td>Mr. Harrigan's Phone</td>\n",
       "      <td>NaN</td>\n",
       "      <td>Amazon Fire TV Stick 2020 Lite Streaming Stick</td>\n",
       "      <td>01:37:50</td>\n",
       "      <td>01:37:50</td>\n",
       "      <td>IN (India)</td>\n",
       "    </tr>\n",
       "  </tbody>\n",
       "</table>\n",
       "</div>"
      ],
      "text/plain": [
       "     Profile Name           Start Time  Duration  \\\n",
       "4957        Nishu  2023-10-27 15:09:27  00:03:16   \n",
       "1141        Mohit  2023-06-21 14:25:54  00:32:46   \n",
       "3499        Nishu  2024-06-16 16:09:25  00:00:04   \n",
       "2806        Nishu  2024-09-05 20:29:00  00:45:09   \n",
       "523        Mayank  2024-06-08 07:27:02  00:33:27   \n",
       "2183        Nishu  2024-10-04 12:06:31  00:00:05   \n",
       "4338        Nishu  2023-12-10 10:42:30  00:00:10   \n",
       "6538        Nishu  2023-01-28 18:13:33  00:20:16   \n",
       "3963        Nishu  2024-01-20 19:38:27  00:21:25   \n",
       "3029        Nishu  2024-08-21 18:25:10  01:33:37   \n",
       "\n",
       "                           Attributes  \\\n",
       "4957                              NaN   \n",
       "1141                              NaN   \n",
       "3499  Autoplayed: user action: None;    \n",
       "2806                              NaN   \n",
       "523                               NaN   \n",
       "2183  Autoplayed: user action: None;    \n",
       "4338  Autoplayed: user action: None;    \n",
       "6538                              NaN   \n",
       "3963                              NaN   \n",
       "3029                              NaN   \n",
       "\n",
       "                                                  Title  \\\n",
       "4957  Friends: Season 10: The One with the Cake (Epi...   \n",
       "1141                       Mowgli: Legend of the Jungle   \n",
       "3499           NoGlobalVideo-CannotLocalize-81575156-en   \n",
       "2806                          KAOS: Season 1: Episode 1   \n",
       "523   Monk: Season 5: Mr. Monk, Private Eye (Episode 5)   \n",
       "2183  Season 1 Main Character Intro Clip: One of Us ...   \n",
       "4338           NoGlobalVideo-CannotLocalize-81730925-en   \n",
       "6538                 VINLAND SAGA: Season 1: Episode 16   \n",
       "3963  The Disastrous Life of Saiki K.: Season 2: Epi...   \n",
       "3029                               Mr. Harrigan's Phone   \n",
       "\n",
       "     Supplemental Video Type                                     Device Type  \\\n",
       "4957                     NaN                   Reliance Jio JHSD200 MVPD STB   \n",
       "1141                     NaN                           Xiaomi dangal SmartTV   \n",
       "3499                    HOOK                   Reliance Jio JHSD200 MVPD STB   \n",
       "2806                     NaN  Amazon Fire TV Stick 2020 Lite Streaming Stick   \n",
       "523                      NaN                   Reliance Jio JHSD200 MVPD STB   \n",
       "2183                    HOOK  Amazon Fire TV Stick 2020 Lite Streaming Stick   \n",
       "4338                    HOOK                   Reliance Jio JHSD200 MVPD STB   \n",
       "6538                     NaN                             Chrome PC (Cadmium)   \n",
       "3963                     NaN                             Chrome PC (Cadmium)   \n",
       "3029                     NaN  Amazon Fire TV Stick 2020 Lite Streaming Stick   \n",
       "\n",
       "      Bookmark  Latest Bookmark     Country  \n",
       "4957  00:03:16  Not latest view  IN (India)  \n",
       "1141  00:32:49  Not latest view  IN (India)  \n",
       "3499  00:00:04  Not latest view  IN (India)  \n",
       "2806  00:45:09         00:45:09  IN (India)  \n",
       "523   00:33:27  Not latest view  IN (India)  \n",
       "2183  00:00:05         00:00:05  IN (India)  \n",
       "4338  00:00:10  Not latest view  IN (India)  \n",
       "6538  00:23:14         00:23:14  IN (India)  \n",
       "3963  00:22:03         00:22:03  IN (India)  \n",
       "3029  01:37:50         01:37:50  IN (India)  "
      ]
     },
     "execution_count": 224,
     "metadata": {},
     "output_type": "execute_result"
    }
   ],
   "source": [
    "df.sample(n=10)"
   ]
  },
  {
   "cell_type": "code",
   "execution_count": 225,
   "id": "483bcef2",
   "metadata": {},
   "outputs": [
    {
     "data": {
      "text/plain": [
       "array(['Kids', 'Mayank', 'Mohit', 'Nishu', 'Yash'], dtype=object)"
      ]
     },
     "execution_count": 225,
     "metadata": {},
     "output_type": "execute_result"
    }
   ],
   "source": [
    "df['Profile Name'].unique()"
   ]
  },
  {
   "cell_type": "code",
   "execution_count": 226,
   "id": "1ec2f42c",
   "metadata": {},
   "outputs": [
    {
     "data": {
      "text/plain": [
       "array(['Amazon Fire TV Stick 2020 Lite Streaming Stick',\n",
       "       'Reliance Jio JHSD200 MVPD STB',\n",
       "       'Android DefaultWidevineL3Phone Android Phone',\n",
       "       'DefaultWidevineAndroidPhone', 'Netflix Linux Firefox Other',\n",
       "       'TCL TV 2022 GTV RT51A Smart TV', 'Chrome PC (Cadmium)',\n",
       "       'Xiaomi dangal SmartTV',\n",
       "       'Amazon Fire TV Stick 2020 + Streaming Stick'], dtype=object)"
      ]
     },
     "execution_count": 226,
     "metadata": {},
     "output_type": "execute_result"
    }
   ],
   "source": [
    "df['Device Type'].unique()"
   ]
  },
  {
   "cell_type": "markdown",
   "id": "a9e99f77",
   "metadata": {},
   "source": [
    "## Questions that come to mind\n",
    "* Which Profile watched the most (time)?\n",
    "* Which Profile has the most watching activities/interactions?\n",
    "* What is the average watching time (per Profile)?\n",
    "* What devices are used by which Profile? And which device is used the most?"
   ]
  },
  {
   "cell_type": "code",
   "execution_count": 227,
   "id": "8f3817d3",
   "metadata": {},
   "outputs": [
    {
     "data": {
      "text/plain": [
       "Profile Name               object\n",
       "Start Time                 object\n",
       "Duration                   object\n",
       "Attributes                 object\n",
       "Title                      object\n",
       "Supplemental Video Type    object\n",
       "Device Type                object\n",
       "Bookmark                   object\n",
       "Latest Bookmark            object\n",
       "Country                    object\n",
       "dtype: object"
      ]
     },
     "execution_count": 227,
     "metadata": {},
     "output_type": "execute_result"
    }
   ],
   "source": [
    "df.dtypes"
   ]
  },
  {
   "cell_type": "code",
   "execution_count": 228,
   "id": "ce1a4e82",
   "metadata": {},
   "outputs": [
    {
     "data": {
      "text/plain": [
       "Profile Name                            object\n",
       "Start Time                 datetime64[ns, UTC]\n",
       "Duration                       timedelta64[ns]\n",
       "Attributes                              object\n",
       "Title                                   object\n",
       "Supplemental Video Type                 object\n",
       "Device Type                             object\n",
       "Bookmark                                object\n",
       "Latest Bookmark                         object\n",
       "Country                                 object\n",
       "dtype: object"
      ]
     },
     "execution_count": 228,
     "metadata": {},
     "output_type": "execute_result"
    }
   ],
   "source": [
    "df['Start Time'] = pd.to_datetime(df['Start Time'], utc = True) #Converts the column 'Start Time' to datetime format.\n",
    "df['Duration'] = pd.to_timedelta(df['Duration']) #Converts the 'Duration' column into timedelat objects.\n",
    "df.dtypes"
   ]
  },
  {
   "cell_type": "code",
   "execution_count": 229,
   "id": "47551240",
   "metadata": {},
   "outputs": [
    {
     "data": {
      "text/html": [
       "<div>\n",
       "<style scoped>\n",
       "    .dataframe tbody tr th:only-of-type {\n",
       "        vertical-align: middle;\n",
       "    }\n",
       "\n",
       "    .dataframe tbody tr th {\n",
       "        vertical-align: top;\n",
       "    }\n",
       "\n",
       "    .dataframe thead th {\n",
       "        text-align: right;\n",
       "    }\n",
       "</style>\n",
       "<table border=\"1\" class=\"dataframe\">\n",
       "  <thead>\n",
       "    <tr style=\"text-align: right;\">\n",
       "      <th></th>\n",
       "      <th>Profile Name</th>\n",
       "      <th>Start Time</th>\n",
       "      <th>Duration</th>\n",
       "      <th>Attributes</th>\n",
       "      <th>Title</th>\n",
       "      <th>Supplemental Video Type</th>\n",
       "      <th>Device Type</th>\n",
       "      <th>Bookmark</th>\n",
       "      <th>Latest Bookmark</th>\n",
       "      <th>Country</th>\n",
       "    </tr>\n",
       "  </thead>\n",
       "  <tbody>\n",
       "    <tr>\n",
       "      <th>2020</th>\n",
       "      <td>Nishu</td>\n",
       "      <td>2024-10-17 05:11:29+00:00</td>\n",
       "      <td>0 days 00:00:23</td>\n",
       "      <td>Autoplayed: user action: None;</td>\n",
       "      <td>Season 4 Part 2 Moment of High Emotion Clip: O...</td>\n",
       "      <td>HOOK</td>\n",
       "      <td>Amazon Fire TV Stick 2020 Lite Streaming Stick</td>\n",
       "      <td>00:00:23</td>\n",
       "      <td>00:00:23</td>\n",
       "      <td>IN (India)</td>\n",
       "    </tr>\n",
       "    <tr>\n",
       "      <th>2949</th>\n",
       "      <td>Nishu</td>\n",
       "      <td>2024-08-28 08:06:52+00:00</td>\n",
       "      <td>0 days 00:00:21</td>\n",
       "      <td>Autoplayed: user action: None;</td>\n",
       "      <td>Plot Clip: Incoming</td>\n",
       "      <td>HOOK</td>\n",
       "      <td>Reliance Jio JHSD200 MVPD STB</td>\n",
       "      <td>00:00:21</td>\n",
       "      <td>00:00:21</td>\n",
       "      <td>IN (India)</td>\n",
       "    </tr>\n",
       "    <tr>\n",
       "      <th>4150</th>\n",
       "      <td>Nishu</td>\n",
       "      <td>2023-12-23 15:17:26+00:00</td>\n",
       "      <td>0 days 01:22:38</td>\n",
       "      <td>NaN</td>\n",
       "      <td>The Killer</td>\n",
       "      <td>NaN</td>\n",
       "      <td>Reliance Jio JHSD200 MVPD STB</td>\n",
       "      <td>01:22:49</td>\n",
       "      <td>Not latest view</td>\n",
       "      <td>IN (India)</td>\n",
       "    </tr>\n",
       "    <tr>\n",
       "      <th>3275</th>\n",
       "      <td>Nishu</td>\n",
       "      <td>2024-08-09 23:12:44+00:00</td>\n",
       "      <td>0 days 00:01:45</td>\n",
       "      <td>NaN</td>\n",
       "      <td>Season 1 Trailer: Tribhuvan Mishra CA Topper</td>\n",
       "      <td>TRAILER</td>\n",
       "      <td>Amazon Fire TV Stick 2020 Lite Streaming Stick</td>\n",
       "      <td>00:01:45</td>\n",
       "      <td>00:01:45</td>\n",
       "      <td>IN (India)</td>\n",
       "    </tr>\n",
       "    <tr>\n",
       "      <th>341</th>\n",
       "      <td>Mayank</td>\n",
       "      <td>2024-09-11 13:09:36+00:00</td>\n",
       "      <td>0 days 00:18:58</td>\n",
       "      <td>NaN</td>\n",
       "      <td>Maharaj</td>\n",
       "      <td>NaN</td>\n",
       "      <td>Amazon Fire TV Stick 2020 Lite Streaming Stick</td>\n",
       "      <td>00:33:31</td>\n",
       "      <td>Not latest view</td>\n",
       "      <td>IN (India)</td>\n",
       "    </tr>\n",
       "    <tr>\n",
       "      <th>365</th>\n",
       "      <td>Mayank</td>\n",
       "      <td>2024-08-31 16:06:09+00:00</td>\n",
       "      <td>0 days 00:00:17</td>\n",
       "      <td>Autoplayed: user action: None;</td>\n",
       "      <td>Season 6 Teaser 1: Peaky Blinders</td>\n",
       "      <td>TEASER_TRAILER</td>\n",
       "      <td>Reliance Jio JHSD200 MVPD STB</td>\n",
       "      <td>00:00:17</td>\n",
       "      <td>00:00:17</td>\n",
       "      <td>IN (India)</td>\n",
       "    </tr>\n",
       "    <tr>\n",
       "      <th>5563</th>\n",
       "      <td>Nishu</td>\n",
       "      <td>2023-09-07 14:25:31+00:00</td>\n",
       "      <td>0 days 00:22:37</td>\n",
       "      <td>NaN</td>\n",
       "      <td>Jujutsu Kaisen: Season 2: It's Like That (Epis...</td>\n",
       "      <td>NaN</td>\n",
       "      <td>Chrome PC (Cadmium)</td>\n",
       "      <td>00:22:16</td>\n",
       "      <td>00:22:16</td>\n",
       "      <td>IN (India)</td>\n",
       "    </tr>\n",
       "    <tr>\n",
       "      <th>2952</th>\n",
       "      <td>Nishu</td>\n",
       "      <td>2024-08-25 17:54:52+00:00</td>\n",
       "      <td>0 days 00:54:14</td>\n",
       "      <td>Autoplayed: user action: User_Interaction;</td>\n",
       "      <td>Snow White &amp; the Huntsman</td>\n",
       "      <td>NaN</td>\n",
       "      <td>Amazon Fire TV Stick 2020 Lite Streaming Stick</td>\n",
       "      <td>00:53:41</td>\n",
       "      <td>00:53:41</td>\n",
       "      <td>IN (India)</td>\n",
       "    </tr>\n",
       "    <tr>\n",
       "      <th>6066</th>\n",
       "      <td>Nishu</td>\n",
       "      <td>2023-06-01 08:49:48+00:00</td>\n",
       "      <td>0 days 00:03:38</td>\n",
       "      <td>NaN</td>\n",
       "      <td>The Office (U.S.): Season 6: Gossip (Episode 1)</td>\n",
       "      <td>NaN</td>\n",
       "      <td>Reliance Jio JHSD200 MVPD STB</td>\n",
       "      <td>00:21:30</td>\n",
       "      <td>Not latest view</td>\n",
       "      <td>IN (India)</td>\n",
       "    </tr>\n",
       "    <tr>\n",
       "      <th>2041</th>\n",
       "      <td>Nishu</td>\n",
       "      <td>2024-10-16 06:23:39+00:00</td>\n",
       "      <td>0 days 00:00:05</td>\n",
       "      <td>Autoplayed: user action: None;</td>\n",
       "      <td>Trailer: Kaleidoscope</td>\n",
       "      <td>TRAILER</td>\n",
       "      <td>Amazon Fire TV Stick 2020 Lite Streaming Stick</td>\n",
       "      <td>00:00:05</td>\n",
       "      <td>00:00:05</td>\n",
       "      <td>IN (India)</td>\n",
       "    </tr>\n",
       "  </tbody>\n",
       "</table>\n",
       "</div>"
      ],
      "text/plain": [
       "     Profile Name                Start Time        Duration  \\\n",
       "2020        Nishu 2024-10-17 05:11:29+00:00 0 days 00:00:23   \n",
       "2949        Nishu 2024-08-28 08:06:52+00:00 0 days 00:00:21   \n",
       "4150        Nishu 2023-12-23 15:17:26+00:00 0 days 01:22:38   \n",
       "3275        Nishu 2024-08-09 23:12:44+00:00 0 days 00:01:45   \n",
       "341        Mayank 2024-09-11 13:09:36+00:00 0 days 00:18:58   \n",
       "365        Mayank 2024-08-31 16:06:09+00:00 0 days 00:00:17   \n",
       "5563        Nishu 2023-09-07 14:25:31+00:00 0 days 00:22:37   \n",
       "2952        Nishu 2024-08-25 17:54:52+00:00 0 days 00:54:14   \n",
       "6066        Nishu 2023-06-01 08:49:48+00:00 0 days 00:03:38   \n",
       "2041        Nishu 2024-10-16 06:23:39+00:00 0 days 00:00:05   \n",
       "\n",
       "                                       Attributes  \\\n",
       "2020              Autoplayed: user action: None;    \n",
       "2949              Autoplayed: user action: None;    \n",
       "4150                                          NaN   \n",
       "3275                                          NaN   \n",
       "341                                           NaN   \n",
       "365               Autoplayed: user action: None;    \n",
       "5563                                          NaN   \n",
       "2952  Autoplayed: user action: User_Interaction;    \n",
       "6066                                          NaN   \n",
       "2041              Autoplayed: user action: None;    \n",
       "\n",
       "                                                  Title  \\\n",
       "2020  Season 4 Part 2 Moment of High Emotion Clip: O...   \n",
       "2949                                Plot Clip: Incoming   \n",
       "4150                                         The Killer   \n",
       "3275       Season 1 Trailer: Tribhuvan Mishra CA Topper   \n",
       "341                                             Maharaj   \n",
       "365                   Season 6 Teaser 1: Peaky Blinders   \n",
       "5563  Jujutsu Kaisen: Season 2: It's Like That (Epis...   \n",
       "2952                          Snow White & the Huntsman   \n",
       "6066    The Office (U.S.): Season 6: Gossip (Episode 1)   \n",
       "2041                              Trailer: Kaleidoscope   \n",
       "\n",
       "     Supplemental Video Type                                     Device Type  \\\n",
       "2020                    HOOK  Amazon Fire TV Stick 2020 Lite Streaming Stick   \n",
       "2949                    HOOK                   Reliance Jio JHSD200 MVPD STB   \n",
       "4150                     NaN                   Reliance Jio JHSD200 MVPD STB   \n",
       "3275                 TRAILER  Amazon Fire TV Stick 2020 Lite Streaming Stick   \n",
       "341                      NaN  Amazon Fire TV Stick 2020 Lite Streaming Stick   \n",
       "365           TEASER_TRAILER                   Reliance Jio JHSD200 MVPD STB   \n",
       "5563                     NaN                             Chrome PC (Cadmium)   \n",
       "2952                     NaN  Amazon Fire TV Stick 2020 Lite Streaming Stick   \n",
       "6066                     NaN                   Reliance Jio JHSD200 MVPD STB   \n",
       "2041                 TRAILER  Amazon Fire TV Stick 2020 Lite Streaming Stick   \n",
       "\n",
       "      Bookmark  Latest Bookmark     Country  \n",
       "2020  00:00:23         00:00:23  IN (India)  \n",
       "2949  00:00:21         00:00:21  IN (India)  \n",
       "4150  01:22:49  Not latest view  IN (India)  \n",
       "3275  00:01:45         00:01:45  IN (India)  \n",
       "341   00:33:31  Not latest view  IN (India)  \n",
       "365   00:00:17         00:00:17  IN (India)  \n",
       "5563  00:22:16         00:22:16  IN (India)  \n",
       "2952  00:53:41         00:53:41  IN (India)  \n",
       "6066  00:21:30  Not latest view  IN (India)  \n",
       "2041  00:00:05         00:00:05  IN (India)  "
      ]
     },
     "execution_count": 229,
     "metadata": {},
     "output_type": "execute_result"
    }
   ],
   "source": [
    "df.sample(n=10)"
   ]
  },
  {
   "cell_type": "code",
   "execution_count": 230,
   "id": "6df37c2a",
   "metadata": {},
   "outputs": [
    {
     "data": {
      "text/plain": [
       "Profile Name\n",
       "Nishu     5580\n",
       "Mayank    1081\n",
       "Mohit       61\n",
       "Kids         6\n",
       "Yash         6\n",
       "Name: count, dtype: int64"
      ]
     },
     "execution_count": 230,
     "metadata": {},
     "output_type": "execute_result"
    }
   ],
   "source": [
    "df['Profile Name'].value_counts()"
   ]
  },
  {
   "cell_type": "code",
   "execution_count": 231,
   "id": "1b40ae46",
   "metadata": {},
   "outputs": [
    {
     "data": {
      "image/png": "[encoded data removed]",
      "text/plain": [
       "<Figure size 640x480 with 1 Axes>"
      ]
     },
     "metadata": {},
     "output_type": "display_data"
    }
   ],
   "source": [
    "import matplotlib.pyplot as plt\n",
    "import matplotlib\n",
    "df['Profile Name'].value_counts().plot(kind='bar')\n",
    "plt.show()"
   ]
  },
  {
   "cell_type": "code",
   "execution_count": 232,
   "id": "e85fd89c",
   "metadata": {},
   "outputs": [
    {
     "data": {
      "text/plain": [
       "Timedelta('57 days 19:47:50')"
      ]
     },
     "execution_count": 232,
     "metadata": {},
     "output_type": "execute_result"
    }
   ],
   "source": [
    "df['Duration'].sum() #This gives the overall viewing of all profiles"
   ]
  },
  {
   "cell_type": "code",
   "execution_count": 233,
   "id": "a5066a82",
   "metadata": {},
   "outputs": [
    {
     "data": {
      "text/html": [
       "<div>\n",
       "<style scoped>\n",
       "    .dataframe tbody tr th:only-of-type {\n",
       "        vertical-align: middle;\n",
       "    }\n",
       "\n",
       "    .dataframe tbody tr th {\n",
       "        vertical-align: top;\n",
       "    }\n",
       "\n",
       "    .dataframe thead th {\n",
       "        text-align: right;\n",
       "    }\n",
       "</style>\n",
       "<table border=\"1\" class=\"dataframe\">\n",
       "  <thead>\n",
       "    <tr style=\"text-align: right;\">\n",
       "      <th></th>\n",
       "      <th>Profile Name</th>\n",
       "      <th>Start Time</th>\n",
       "      <th>Duration</th>\n",
       "      <th>Attributes</th>\n",
       "      <th>Title</th>\n",
       "      <th>Supplemental Video Type</th>\n",
       "      <th>Device Type</th>\n",
       "      <th>Bookmark</th>\n",
       "      <th>Latest Bookmark</th>\n",
       "      <th>Country</th>\n",
       "    </tr>\n",
       "  </thead>\n",
       "  <tbody>\n",
       "    <tr>\n",
       "      <th>6727</th>\n",
       "      <td>Nishu</td>\n",
       "      <td>2022-10-30 06:17:54+00:00</td>\n",
       "      <td>0 days 00:38:39</td>\n",
       "      <td>NaN</td>\n",
       "      <td>Not Another Teen Movie</td>\n",
       "      <td>NaN</td>\n",
       "      <td>Chrome PC (Cadmium)</td>\n",
       "      <td>00:38:06</td>\n",
       "      <td>Not latest view</td>\n",
       "      <td>IN (India)</td>\n",
       "    </tr>\n",
       "    <tr>\n",
       "      <th>6726</th>\n",
       "      <td>Nishu</td>\n",
       "      <td>2022-10-30 07:36:04+00:00</td>\n",
       "      <td>0 days 00:28:35</td>\n",
       "      <td>NaN</td>\n",
       "      <td>Not Another Teen Movie</td>\n",
       "      <td>NaN</td>\n",
       "      <td>Chrome PC (Cadmium)</td>\n",
       "      <td>01:07:11</td>\n",
       "      <td>01:07:11</td>\n",
       "      <td>IN (India)</td>\n",
       "    </tr>\n",
       "    <tr>\n",
       "      <th>6725</th>\n",
       "      <td>Nishu</td>\n",
       "      <td>2022-10-30 10:26:42+00:00</td>\n",
       "      <td>0 days 00:06:08</td>\n",
       "      <td>NaN</td>\n",
       "      <td>Naruto Shippuden: Season 13: Unison Sign (Epis...</td>\n",
       "      <td>NaN</td>\n",
       "      <td>Chrome PC (Cadmium)</td>\n",
       "      <td>00:21:12</td>\n",
       "      <td>00:21:12</td>\n",
       "      <td>IN (India)</td>\n",
       "    </tr>\n",
       "    <tr>\n",
       "      <th>6724</th>\n",
       "      <td>Nishu</td>\n",
       "      <td>2022-10-30 10:33:21+00:00</td>\n",
       "      <td>0 days 00:03:02</td>\n",
       "      <td>NaN</td>\n",
       "      <td>Naruto Shippuden: Season 13: Medic Ninja in Da...</td>\n",
       "      <td>NaN</td>\n",
       "      <td>Chrome PC (Cadmium)</td>\n",
       "      <td>00:19:51</td>\n",
       "      <td>00:19:51</td>\n",
       "      <td>IN (India)</td>\n",
       "    </tr>\n",
       "    <tr>\n",
       "      <th>6723</th>\n",
       "      <td>Nishu</td>\n",
       "      <td>2022-10-30 10:37:02+00:00</td>\n",
       "      <td>0 days 00:00:07</td>\n",
       "      <td>NaN</td>\n",
       "      <td>Naruto Shippuden: Season 13: White Zetsu's Tra...</td>\n",
       "      <td>NaN</td>\n",
       "      <td>Chrome PC (Cadmium)</td>\n",
       "      <td>00:00:56</td>\n",
       "      <td>00:00:56</td>\n",
       "      <td>IN (India)</td>\n",
       "    </tr>\n",
       "    <tr>\n",
       "      <th>...</th>\n",
       "      <td>...</td>\n",
       "      <td>...</td>\n",
       "      <td>...</td>\n",
       "      <td>...</td>\n",
       "      <td>...</td>\n",
       "      <td>...</td>\n",
       "      <td>...</td>\n",
       "      <td>...</td>\n",
       "      <td>...</td>\n",
       "      <td>...</td>\n",
       "    </tr>\n",
       "    <tr>\n",
       "      <th>1152</th>\n",
       "      <td>Nishu</td>\n",
       "      <td>2025-04-05 19:39:10+00:00</td>\n",
       "      <td>0 days 00:18:44</td>\n",
       "      <td>NaN</td>\n",
       "      <td>The Big Bang Theory: Season 6: The Tenure Turb...</td>\n",
       "      <td>NaN</td>\n",
       "      <td>Chrome PC (Cadmium)</td>\n",
       "      <td>00:18:44</td>\n",
       "      <td>Not latest view</td>\n",
       "      <td>IN (India)</td>\n",
       "    </tr>\n",
       "    <tr>\n",
       "      <th>1151</th>\n",
       "      <td>Nishu</td>\n",
       "      <td>2025-04-06 09:36:34+00:00</td>\n",
       "      <td>0 days 00:00:09</td>\n",
       "      <td>NaN</td>\n",
       "      <td>The Big Bang Theory: Season 6: The Tenure Turb...</td>\n",
       "      <td>NaN</td>\n",
       "      <td>Chrome PC (Cadmium)</td>\n",
       "      <td>00:00:09</td>\n",
       "      <td>00:00:09</td>\n",
       "      <td>IN (India)</td>\n",
       "    </tr>\n",
       "    <tr>\n",
       "      <th>1150</th>\n",
       "      <td>Nishu</td>\n",
       "      <td>2025-04-06 09:36:48+00:00</td>\n",
       "      <td>0 days 00:18:59</td>\n",
       "      <td>NaN</td>\n",
       "      <td>The Big Bang Theory: Season 6: The Closure Alt...</td>\n",
       "      <td>NaN</td>\n",
       "      <td>Chrome PC (Cadmium)</td>\n",
       "      <td>00:19:18</td>\n",
       "      <td>00:19:18</td>\n",
       "      <td>IN (India)</td>\n",
       "    </tr>\n",
       "    <tr>\n",
       "      <th>1149</th>\n",
       "      <td>Nishu</td>\n",
       "      <td>2025-04-06 11:32:26+00:00</td>\n",
       "      <td>0 days 00:00:19</td>\n",
       "      <td>Autoplayed: user action: User_Interaction;</td>\n",
       "      <td>Emergency (Hindi Movie)_hook_03_16x9</td>\n",
       "      <td>HOOK</td>\n",
       "      <td>TCL TV 2022 GTV RT51A Smart TV</td>\n",
       "      <td>00:00:19</td>\n",
       "      <td>00:00:19</td>\n",
       "      <td>IN (India)</td>\n",
       "    </tr>\n",
       "    <tr>\n",
       "      <th>1148</th>\n",
       "      <td>Nishu</td>\n",
       "      <td>2025-04-06 11:32:49+00:00</td>\n",
       "      <td>0 days 00:53:01</td>\n",
       "      <td>NaN</td>\n",
       "      <td>Emergency</td>\n",
       "      <td>NaN</td>\n",
       "      <td>TCL TV 2022 GTV RT51A Smart TV</td>\n",
       "      <td>01:37:03</td>\n",
       "      <td>01:37:03</td>\n",
       "      <td>IN (India)</td>\n",
       "    </tr>\n",
       "  </tbody>\n",
       "</table>\n",
       "<p>6734 rows × 10 columns</p>\n",
       "</div>"
      ],
      "text/plain": [
       "     Profile Name                Start Time        Duration  \\\n",
       "6727        Nishu 2022-10-30 06:17:54+00:00 0 days 00:38:39   \n",
       "6726        Nishu 2022-10-30 07:36:04+00:00 0 days 00:28:35   \n",
       "6725        Nishu 2022-10-30 10:26:42+00:00 0 days 00:06:08   \n",
       "6724        Nishu 2022-10-30 10:33:21+00:00 0 days 00:03:02   \n",
       "6723        Nishu 2022-10-30 10:37:02+00:00 0 days 00:00:07   \n",
       "...           ...                       ...             ...   \n",
       "1152        Nishu 2025-04-05 19:39:10+00:00 0 days 00:18:44   \n",
       "1151        Nishu 2025-04-06 09:36:34+00:00 0 days 00:00:09   \n",
       "1150        Nishu 2025-04-06 09:36:48+00:00 0 days 00:18:59   \n",
       "1149        Nishu 2025-04-06 11:32:26+00:00 0 days 00:00:19   \n",
       "1148        Nishu 2025-04-06 11:32:49+00:00 0 days 00:53:01   \n",
       "\n",
       "                                       Attributes  \\\n",
       "6727                                          NaN   \n",
       "6726                                          NaN   \n",
       "6725                                          NaN   \n",
       "6724                                          NaN   \n",
       "6723                                          NaN   \n",
       "...                                           ...   \n",
       "1152                                          NaN   \n",
       "1151                                          NaN   \n",
       "1150                                          NaN   \n",
       "1149  Autoplayed: user action: User_Interaction;    \n",
       "1148                                          NaN   \n",
       "\n",
       "                                                  Title  \\\n",
       "6727                             Not Another Teen Movie   \n",
       "6726                             Not Another Teen Movie   \n",
       "6725  Naruto Shippuden: Season 13: Unison Sign (Epis...   \n",
       "6724  Naruto Shippuden: Season 13: Medic Ninja in Da...   \n",
       "6723  Naruto Shippuden: Season 13: White Zetsu's Tra...   \n",
       "...                                                 ...   \n",
       "1152  The Big Bang Theory: Season 6: The Tenure Turb...   \n",
       "1151  The Big Bang Theory: Season 6: The Tenure Turb...   \n",
       "1150  The Big Bang Theory: Season 6: The Closure Alt...   \n",
       "1149               Emergency (Hindi Movie)_hook_03_16x9   \n",
       "1148                                          Emergency   \n",
       "\n",
       "     Supplemental Video Type                     Device Type  Bookmark  \\\n",
       "6727                     NaN             Chrome PC (Cadmium)  00:38:06   \n",
       "6726                     NaN             Chrome PC (Cadmium)  01:07:11   \n",
       "6725                     NaN             Chrome PC (Cadmium)  00:21:12   \n",
       "6724                     NaN             Chrome PC (Cadmium)  00:19:51   \n",
       "6723                     NaN             Chrome PC (Cadmium)  00:00:56   \n",
       "...                      ...                             ...       ...   \n",
       "1152                     NaN             Chrome PC (Cadmium)  00:18:44   \n",
       "1151                     NaN             Chrome PC (Cadmium)  00:00:09   \n",
       "1150                     NaN             Chrome PC (Cadmium)  00:19:18   \n",
       "1149                    HOOK  TCL TV 2022 GTV RT51A Smart TV  00:00:19   \n",
       "1148                     NaN  TCL TV 2022 GTV RT51A Smart TV  01:37:03   \n",
       "\n",
       "      Latest Bookmark     Country  \n",
       "6727  Not latest view  IN (India)  \n",
       "6726         01:07:11  IN (India)  \n",
       "6725         00:21:12  IN (India)  \n",
       "6724         00:19:51  IN (India)  \n",
       "6723         00:00:56  IN (India)  \n",
       "...               ...         ...  \n",
       "1152  Not latest view  IN (India)  \n",
       "1151         00:00:09  IN (India)  \n",
       "1150         00:19:18  IN (India)  \n",
       "1149         00:00:19  IN (India)  \n",
       "1148         01:37:03  IN (India)  \n",
       "\n",
       "[6734 rows x 10 columns]"
      ]
     },
     "execution_count": 233,
     "metadata": {},
     "output_type": "execute_result"
    }
   ],
   "source": [
    "df.sort_values('Start Time')"
   ]
  },
  {
   "cell_type": "markdown",
   "id": "b32e4a19",
   "metadata": {},
   "source": [
    "### This shows that the data is logged from 2022-10-30 to 2025-04-06"
   ]
  },
  {
   "cell_type": "code",
   "execution_count": 234,
   "id": "f4bc1bc8",
   "metadata": {},
   "outputs": [
    {
     "name": "stdout",
     "output_type": "stream",
     "text": [
      "Total Duration of Profile Nishu: 43 days 15:44:41\n",
      "Total Duration of Profile Mayank: 13 days 03:05:18\n",
      "Total Duration of Profile Mohit: 1 days 00:15:01\n",
      "Total Duration of Profile Yash: 0 days 00:21:20\n",
      "Total Duration of Profile Kids: 0 days 00:21:30\n"
     ]
    }
   ],
   "source": [
    "# This gives us the total Duration of each profile which is in timedelta format\n",
    "print('Total Duration of Profile Nishu:',df.loc[df['Profile Name'] == 'Nishu','Duration'].sum())\n",
    "print('Total Duration of Profile Mayank:',df.loc[df['Profile Name'] == 'Mayank','Duration'].sum())\n",
    "print('Total Duration of Profile Mohit:',df.loc[df['Profile Name'] == 'Mohit','Duration'].sum())\n",
    "print('Total Duration of Profile Yash:',df.loc[df['Profile Name'] == 'Yash','Duration'].sum())\n",
    "print('Total Duration of Profile Kids:',df.loc[df['Profile Name'] == 'Kids','Duration'].sum())"
   ]
  },
  {
   "cell_type": "code",
   "execution_count": 235,
   "id": "aab54ff1",
   "metadata": {},
   "outputs": [
    {
     "name": "stdout",
     "output_type": "stream",
     "text": [
      "Total Duration for Profile Nishu in Seconds is: 3771881.0\n",
      "Total Duration for Profile Mayank in Seconds is: 1134318.0\n",
      "Total Duration for Profile Mohit in Seconds is: 87301.0\n",
      "Total Duration for Profile Yash in Seconds is: 1280.0\n",
      "Total Duration for Profile Kids in Seconds is: 1290.0\n"
     ]
    }
   ],
   "source": [
    "# This gives us the total duration of each profile in seconds.\n",
    "print('Total Duration for Profile Nishu in Seconds is:',df.loc[df['Profile Name'] == 'Nishu','Duration'].dt.total_seconds().sum())\n",
    "print('Total Duration for Profile Mayank in Seconds is:',df.loc[df['Profile Name'] == 'Mayank','Duration'].dt.total_seconds().sum())\n",
    "print('Total Duration for Profile Mohit in Seconds is:',df.loc[df['Profile Name'] == 'Mohit','Duration'].dt.total_seconds().sum())\n",
    "print('Total Duration for Profile Yash in Seconds is:',df.loc[df['Profile Name'] == 'Yash','Duration'].dt.total_seconds().sum())\n",
    "print('Total Duration for Profile Kids in Seconds is:',df.loc[df['Profile Name'] == 'Kids','Duration'].dt.total_seconds().sum())"
   ]
  },
  {
   "cell_type": "code",
   "execution_count": 236,
   "id": "34ee1493",
   "metadata": {},
   "outputs": [
    {
     "name": "stdout",
     "output_type": "stream",
     "text": [
      "Total Duration for Profile Nishu in Hours is: 1047.7447222222222\n",
      "Total Duration for Profile Mayank in Hours is: 315.0883333333333\n",
      "Total Duration for Profile Mohit in Hours is: 24.25027777777778\n",
      "Total Duration for Profile Yash in Hours is: 0.35555555555555557\n",
      "Total Duration for Profile Kids in Hours is: 0.35833333333333334\n"
     ]
    }
   ],
   "source": [
    "# This gives us the total duration of each profile in Hours.\n",
    "print('Total Duration for Profile Nishu in Hours is:',df.loc[df['Profile Name'] == 'Nishu','Duration'].dt.total_seconds().sum() / 3600)\n",
    "print('Total Duration for Profile Mayank in Hours is:',df.loc[df['Profile Name'] == 'Mayank','Duration'].dt.total_seconds().sum() / 3600) \n",
    "print('Total Duration for Profile Mohit in Hours is:',df.loc[df['Profile Name'] == 'Mohit','Duration'].dt.total_seconds().sum() / 3600)\n",
    "print('Total Duration for Profile Yash in Hours is:',df.loc[df['Profile Name'] == 'Yash','Duration'].dt.total_seconds().sum() / 3600) \n",
    "print('Total Duration for Profile Kids in Hours is:',df.loc[df['Profile Name'] == 'Kids','Duration'].dt.total_seconds().sum() / 3600) "
   ]
  },
  {
   "cell_type": "code",
   "execution_count": 237,
   "id": "ce926e4c",
   "metadata": {},
   "outputs": [
    {
     "name": "stdout",
     "output_type": "stream",
     "text": [
      "Total Duration for Profile Nishu in Days is: 43.656030092592594\n",
      "Total Duration for Profile Mayank in Days is: 13.128680555555556\n",
      "Total Duration for Profile Mohit in Days is: 1.0104282407407408\n",
      "Total Duration for Profile Yash in Days is: 0.014814814814814815\n",
      "Total Duration for Profile Kids in Days is: 0.014930555555555556\n"
     ]
    }
   ],
   "source": [
    "# This gives us the total duration of each profile in Days.\n",
    "print('Total Duration for Profile Nishu in Days is:',df.loc[df['Profile Name'] == 'Nishu','Duration'].dt.total_seconds().sum() / 86400)\n",
    "print('Total Duration for Profile Mayank in Days is:',df.loc[df['Profile Name'] == 'Mayank','Duration'].dt.total_seconds().sum() / 86400) \n",
    "print('Total Duration for Profile Mohit in Days is:',df.loc[df['Profile Name'] == 'Mohit','Duration'].dt.total_seconds().sum() / 86400)\n",
    "print('Total Duration for Profile Yash in Days is:',df.loc[df['Profile Name'] == 'Yash','Duration'].dt.total_seconds().sum() / 86400) \n",
    "print('Total Duration for Profile Kids in Days is:',df.loc[df['Profile Name'] == 'Kids','Duration'].dt.total_seconds().sum() / 86400) "
   ]
  },
  {
   "cell_type": "code",
   "execution_count": 238,
   "id": "1eecb724",
   "metadata": {},
   "outputs": [
    {
     "data": {
      "text/plain": [
       "{'Nishu': 3771881.0,\n",
       " 'Mayank': 1134318.0,\n",
       " 'Mohit': 87301.0,\n",
       " 'Yash': 1280.0,\n",
       " 'Kids': 1290.0}"
      ]
     },
     "execution_count": 238,
     "metadata": {},
     "output_type": "execute_result"
    }
   ],
   "source": [
    "# Creating a dictionary to store all the Profile Names and their respective Total duration time in seconds\n",
    "ViewingTime = {}\n",
    "ViewingTime.update({'Nishu': df.loc[df['Profile Name'] == 'Nishu','Duration'].dt.total_seconds().sum()})\n",
    "ViewingTime.update({'Mayank': df.loc[df['Profile Name'] == 'Mayank','Duration'].dt.total_seconds().sum()})\n",
    "ViewingTime.update({'Mohit': df.loc[df['Profile Name'] == 'Mohit','Duration'].dt.total_seconds().sum()})\n",
    "ViewingTime.update({'Yash': df.loc[df['Profile Name'] == 'Yash','Duration'].dt.total_seconds().sum()})\n",
    "ViewingTime.update({'Kids': df.loc[df['Profile Name'] == 'Kids','Duration'].dt.total_seconds().sum()})\n",
    "ViewingTime"
   ]
  },
  {
   "cell_type": "code",
   "execution_count": 239,
   "id": "f0409c79",
   "metadata": {},
   "outputs": [
    {
     "data": {
      "image/png": "[encoded data removed]",
      "text/plain": [
       "<Figure size 640x480 with 1 Axes>"
      ]
     },
     "metadata": {},
     "output_type": "display_data"
    }
   ],
   "source": [
    "%matplotlib inline\n",
    "import matplotlib\n",
    "import matplotlib.pyplot as plt\n",
    "plt.bar(*zip(*ViewingTime.items()))\n",
    "plt.show()"
   ]
  },
  {
   "cell_type": "markdown",
   "id": "dcbe1bbf",
   "metadata": {},
   "source": [
    "### Get the average watching time per profile"
   ]
  },
  {
   "cell_type": "code",
   "execution_count": 240,
   "id": "b084f632",
   "metadata": {},
   "outputs": [
    {
     "data": {
      "text/plain": [
       "Profile Name\n",
       "Nishu     5580\n",
       "Mayank    1081\n",
       "Mohit       61\n",
       "Kids         6\n",
       "Yash         6\n",
       "Name: count, dtype: int64"
      ]
     },
     "execution_count": 240,
     "metadata": {},
     "output_type": "execute_result"
    }
   ],
   "source": [
    "df['Profile Name'].value_counts()"
   ]
  },
  {
   "cell_type": "markdown",
   "id": "8124da00",
   "metadata": {},
   "source": [
    "#### We have gotten the total individual number of interactions of each profile and to get the average wathicng time we will have to divide the total Duration with the total number if interactions"
   ]
  },
  {
   "cell_type": "code",
   "execution_count": 241,
   "id": "66a9e170",
   "metadata": {},
   "outputs": [
    {
     "name": "stdout",
     "output_type": "stream",
     "text": [
      "Average watching time for Profile Nishu : 0 days 00:11:15.964336917\n",
      "Average watching time fro Profile Mayank : 0 days 00:17:29.322849213\n",
      "Average watching time for Profile Mohit : 0 days 00:23:51.163934426\n",
      "Average watching time for Profile Yash : 0 days 00:03:33.333333333\n",
      "Average watching time for Profile Kids: 0 days 00:03:35\n"
     ]
    }
   ],
   "source": [
    "print('Average watching time for Profile Nishu :',df.loc[df['Profile Name'] == 'Nishu','Duration'].sum() / 5580)\n",
    "print('Average watching time fro Profile Mayank :',df.loc[df['Profile Name'] == 'Mayank','Duration'].sum() / 1081)\n",
    "print('Average watching time for Profile Mohit :',df.loc[df['Profile Name'] == 'Mohit','Duration'].sum() / 61)\n",
    "print('Average watching time for Profile Yash :',df.loc[df['Profile Name'] == 'Yash','Duration'].sum() / 6)\n",
    "print('Average watching time for Profile Kids:',df.loc[df['Profile Name'] == 'Kids','Duration'].sum() / 6)"
   ]
  },
  {
   "cell_type": "code",
   "execution_count": 242,
   "id": "77f5f1fc",
   "metadata": {},
   "outputs": [
    {
     "data": {
      "text/plain": [
       "Supplemental Video Type\n",
       "HOOK              1876\n",
       "TRAILER            377\n",
       "TEASER_TRAILER      81\n",
       "CINEMAGRAPH         21\n",
       "PROMOTIONAL          3\n",
       "CHARACTER            2\n",
       "RECAP                2\n",
       "BONUS_VIDEO          1\n",
       "BUMPER               1\n",
       "Name: count, dtype: int64"
      ]
     },
     "execution_count": 242,
     "metadata": {},
     "output_type": "execute_result"
    }
   ],
   "source": [
    "df['Supplemental Video Type'].value_counts()"
   ]
  },
  {
   "cell_type": "markdown",
   "id": "ee243920",
   "metadata": {},
   "source": [
    "#### The average viewing time for all the profiles is very less given that the amount of time spent using netflix is very high. After checking the Supplemental video type we see that :\n",
    "\n",
    "* Long durations of streaming are broken into smaller viewing interactions with smaller durations.\n",
    "* There are also very short durations in the dataset such as hooks,trailer,teasers which need to be filtered out so we can get an accurate average viewing time.\n",
    "* Nan represents the actual watched tv shows,ao we will remove all the values except Nan."
   ]
  },
  {
   "cell_type": "code",
   "execution_count": 243,
   "id": "2833b9fb",
   "metadata": {},
   "outputs": [],
   "source": [
    "df = df.loc[df['Supplemental Video Type'].isnull()]"
   ]
  },
  {
   "cell_type": "code",
   "execution_count": 265,
   "id": "1e88a1ba",
   "metadata": {},
   "outputs": [
    {
     "data": {
      "text/html": [
       "<div>\n",
       "<style scoped>\n",
       "    .dataframe tbody tr th:only-of-type {\n",
       "        vertical-align: middle;\n",
       "    }\n",
       "\n",
       "    .dataframe tbody tr th {\n",
       "        vertical-align: top;\n",
       "    }\n",
       "\n",
       "    .dataframe thead th {\n",
       "        text-align: right;\n",
       "    }\n",
       "</style>\n",
       "<table border=\"1\" class=\"dataframe\">\n",
       "  <thead>\n",
       "    <tr style=\"text-align: right;\">\n",
       "      <th></th>\n",
       "      <th>Profile Name</th>\n",
       "      <th>Start Time</th>\n",
       "      <th>Duration</th>\n",
       "      <th>Attributes</th>\n",
       "      <th>Title</th>\n",
       "      <th>Supplemental Video Type</th>\n",
       "      <th>Device Type</th>\n",
       "      <th>Bookmark</th>\n",
       "      <th>Latest Bookmark</th>\n",
       "      <th>Country</th>\n",
       "      <th>Duration_sec</th>\n",
       "      <th>Black Clover</th>\n",
       "    </tr>\n",
       "  </thead>\n",
       "  <tbody>\n",
       "    <tr>\n",
       "      <th>5481</th>\n",
       "      <td>Nishu</td>\n",
       "      <td>2023-09-12 16:32:27+00:00</td>\n",
       "      <td>0 days 00:12:00</td>\n",
       "      <td>NaN</td>\n",
       "      <td>Friends: Season 2: The One with the Lesbian We...</td>\n",
       "      <td>NaN</td>\n",
       "      <td>Chrome PC (Cadmium)</td>\n",
       "      <td>00:22:40</td>\n",
       "      <td>00:22:40</td>\n",
       "      <td>IN (India)</td>\n",
       "      <td>720.0</td>\n",
       "      <td>Friends</td>\n",
       "    </tr>\n",
       "    <tr>\n",
       "      <th>841</th>\n",
       "      <td>Mayank</td>\n",
       "      <td>2024-03-24 05:09:14+00:00</td>\n",
       "      <td>0 days 00:28:15</td>\n",
       "      <td>NaN</td>\n",
       "      <td>House, M.D.: Season 2: No Reason (Episode 24)</td>\n",
       "      <td>NaN</td>\n",
       "      <td>Reliance Jio JHSD200 MVPD STB</td>\n",
       "      <td>00:28:33</td>\n",
       "      <td>Not latest view</td>\n",
       "      <td>IN (India)</td>\n",
       "      <td>1695.0</td>\n",
       "      <td>House, M.D.</td>\n",
       "    </tr>\n",
       "    <tr>\n",
       "      <th>2894</th>\n",
       "      <td>Nishu</td>\n",
       "      <td>2024-08-31 16:43:59+00:00</td>\n",
       "      <td>0 days 00:15:38</td>\n",
       "      <td>Autoplayed: user action: User_Interaction;</td>\n",
       "      <td>The Deliverance</td>\n",
       "      <td>NaN</td>\n",
       "      <td>Amazon Fire TV Stick 2020 Lite Streaming Stick</td>\n",
       "      <td>01:45:43</td>\n",
       "      <td>01:45:43</td>\n",
       "      <td>IN (India)</td>\n",
       "      <td>938.0</td>\n",
       "      <td>The Deliverance</td>\n",
       "    </tr>\n",
       "    <tr>\n",
       "      <th>6296</th>\n",
       "      <td>Nishu</td>\n",
       "      <td>2023-03-23 06:40:08+00:00</td>\n",
       "      <td>0 days 00:16:34</td>\n",
       "      <td>NaN</td>\n",
       "      <td>The Disastrous Life of Saiki K.: Reawakened: S...</td>\n",
       "      <td>NaN</td>\n",
       "      <td>Chrome PC (Cadmium)</td>\n",
       "      <td>00:16:50</td>\n",
       "      <td>Not latest view</td>\n",
       "      <td>IN (India)</td>\n",
       "      <td>994.0</td>\n",
       "      <td>The Disastrous Life of Saiki K.</td>\n",
       "    </tr>\n",
       "    <tr>\n",
       "      <th>6720</th>\n",
       "      <td>Nishu</td>\n",
       "      <td>2022-10-30 10:42:03+00:00</td>\n",
       "      <td>0 days 00:07:27</td>\n",
       "      <td>NaN</td>\n",
       "      <td>Naruto Shippuden: Season 13: The Secret Origin...</td>\n",
       "      <td>NaN</td>\n",
       "      <td>Chrome PC (Cadmium)</td>\n",
       "      <td>00:21:12</td>\n",
       "      <td>00:21:12</td>\n",
       "      <td>IN (India)</td>\n",
       "      <td>447.0</td>\n",
       "      <td>Naruto Shippuden</td>\n",
       "    </tr>\n",
       "  </tbody>\n",
       "</table>\n",
       "</div>"
      ],
      "text/plain": [
       "     Profile Name                Start Time        Duration  \\\n",
       "5481        Nishu 2023-09-12 16:32:27+00:00 0 days 00:12:00   \n",
       "841        Mayank 2024-03-24 05:09:14+00:00 0 days 00:28:15   \n",
       "2894        Nishu 2024-08-31 16:43:59+00:00 0 days 00:15:38   \n",
       "6296        Nishu 2023-03-23 06:40:08+00:00 0 days 00:16:34   \n",
       "6720        Nishu 2022-10-30 10:42:03+00:00 0 days 00:07:27   \n",
       "\n",
       "                                       Attributes  \\\n",
       "5481                                          NaN   \n",
       "841                                           NaN   \n",
       "2894  Autoplayed: user action: User_Interaction;    \n",
       "6296                                          NaN   \n",
       "6720                                          NaN   \n",
       "\n",
       "                                                  Title  \\\n",
       "5481  Friends: Season 2: The One with the Lesbian We...   \n",
       "841       House, M.D.: Season 2: No Reason (Episode 24)   \n",
       "2894                                    The Deliverance   \n",
       "6296  The Disastrous Life of Saiki K.: Reawakened: S...   \n",
       "6720  Naruto Shippuden: Season 13: The Secret Origin...   \n",
       "\n",
       "     Supplemental Video Type                                     Device Type  \\\n",
       "5481                     NaN                             Chrome PC (Cadmium)   \n",
       "841                      NaN                   Reliance Jio JHSD200 MVPD STB   \n",
       "2894                     NaN  Amazon Fire TV Stick 2020 Lite Streaming Stick   \n",
       "6296                     NaN                             Chrome PC (Cadmium)   \n",
       "6720                     NaN                             Chrome PC (Cadmium)   \n",
       "\n",
       "      Bookmark  Latest Bookmark     Country  Duration_sec  \\\n",
       "5481  00:22:40         00:22:40  IN (India)         720.0   \n",
       "841   00:28:33  Not latest view  IN (India)        1695.0   \n",
       "2894  01:45:43         01:45:43  IN (India)         938.0   \n",
       "6296  00:16:50  Not latest view  IN (India)         994.0   \n",
       "6720  00:21:12         00:21:12  IN (India)         447.0   \n",
       "\n",
       "                         Black Clover  \n",
       "5481                          Friends  \n",
       "841                       House, M.D.  \n",
       "2894                  The Deliverance  \n",
       "6296  The Disastrous Life of Saiki K.  \n",
       "6720                 Naruto Shippuden  "
      ]
     },
     "execution_count": 265,
     "metadata": {},
     "output_type": "execute_result"
    }
   ],
   "source": [
    "df.sample(n=5)"
   ]
  },
  {
   "cell_type": "markdown",
   "id": "7ce82eba",
   "metadata": {},
   "source": [
    "#### We can see that the reading that we require to get an accurate average time for each profile consists of 4370 rows and the previous data contained 6734 rows.\n"
   ]
  },
  {
   "cell_type": "code",
   "execution_count": 245,
   "id": "252145e7",
   "metadata": {},
   "outputs": [
    {
     "name": "stdout",
     "output_type": "stream",
     "text": [
      "Supplemental Video Type\n",
      "NaN    4370\n",
      "Name: count, dtype: int64\n"
     ]
    }
   ],
   "source": [
    "print(df['Supplemental Video Type'].value_counts(dropna=False)) "
   ]
  },
  {
   "cell_type": "code",
   "execution_count": 246,
   "id": "1850d724",
   "metadata": {},
   "outputs": [
    {
     "data": {
      "text/plain": [
       "Profile Name\n",
       "Nishu     3554\n",
       "Mayank     743\n",
       "Mohit       61\n",
       "Kids         6\n",
       "Yash         6\n",
       "Name: count, dtype: int64"
      ]
     },
     "execution_count": 246,
     "metadata": {},
     "output_type": "execute_result"
    }
   ],
   "source": [
    "# This will show the updated df with only Nan values\n",
    "df['Profile Name'].value_counts()"
   ]
  },
  {
   "cell_type": "code",
   "execution_count": 247,
   "id": "26bb3cd3",
   "metadata": {},
   "outputs": [
    {
     "name": "stdout",
     "output_type": "stream",
     "text": [
      "Actual Average viewing time for profile Nishu: 0 days 00:17:28.910241980\n",
      "Actual Average viewing time for profile Mayank: 0 days 00:25:18.114401076\n",
      "Actual Average viewing time for profile Mohit: 0 days 00:23:51.163934426\n",
      "Actual Average viewing time for profile Yash: 0 days 00:03:33.333333333\n",
      "Actual Average viewing time for profile Kids: 0 days 00:03:35\n"
     ]
    }
   ],
   "source": [
    "# This prints the average viewing duration for each profile.\n",
    "print('Actual Average viewing time for profile Nishu:',df.loc[df['Profile Name'] == 'Nishu','Duration'].sum() / 3554)\n",
    "print('Actual Average viewing time for profile Mayank:',df.loc[df['Profile Name'] == 'Mayank','Duration'].sum() / 743)\n",
    "print('Actual Average viewing time for profile Mohit:',df.loc[df['Profile Name'] == 'Mohit','Duration'].sum() / 61)\n",
    "print('Actual Average viewing time for profile Yash:',df.loc[df['Profile Name'] == 'Yash','Duration'].sum() / 6)\n",
    "print('Actual Average viewing time for profile Kids:',df.loc[df['Profile Name'] == 'Kids','Duration'].sum() / 6)"
   ]
  },
  {
   "cell_type": "code",
   "execution_count": 248,
   "id": "31e174b7",
   "metadata": {},
   "outputs": [
    {
     "data": {
      "text/plain": [
       "{'Nishu': 1048.9102419808667,\n",
       " 'Mayank': 1518.114401076716,\n",
       " 'Mohit': 1431.1639344262296,\n",
       " 'Yash': 213.33333333333334,\n",
       " 'Kids': 215.0}"
      ]
     },
     "execution_count": 248,
     "metadata": {},
     "output_type": "execute_result"
    }
   ],
   "source": [
    "# Making a dictionary to plot a bar graph.\n",
    "ActualAverageViewingTime = {}\n",
    "ActualAverageViewingTime.update({'Nishu':df.loc[df['Profile Name'] == 'Nishu','Duration'].dt.total_seconds().sum() / 3554})\n",
    "ActualAverageViewingTime.update({'Mayank':df.loc[df['Profile Name'] == 'Mayank','Duration'].dt.total_seconds().sum() / 743})\n",
    "ActualAverageViewingTime.update({'Mohit':df.loc[df['Profile Name'] == 'Mohit','Duration'].dt.total_seconds().sum() / 61})\n",
    "ActualAverageViewingTime.update({'Yash':df.loc[df['Profile Name'] == 'Yash','Duration'].dt.total_seconds().sum() / 6})\n",
    "ActualAverageViewingTime.update({'Kids':df.loc[df['Profile Name'] == 'Kids','Duration'].dt.total_seconds().sum() / 6})\n",
    "ActualAverageViewingTime"
   ]
  },
  {
   "cell_type": "code",
   "execution_count": 249,
   "id": "d0aa5437",
   "metadata": {},
   "outputs": [
    {
     "data": {
      "image/png": "[encoded data removed]",
      "text/plain": [
       "<Figure size 640x480 with 1 Axes>"
      ]
     },
     "metadata": {},
     "output_type": "display_data"
    }
   ],
   "source": [
    "# Bar graph reperesenting the average viewing time for each profile in seconds.\n",
    "plt.bar(*zip(*ActualAverageViewingTime.items()))\n",
    "plt.show()"
   ]
  },
  {
   "cell_type": "code",
   "execution_count": 250,
   "id": "2009fc36",
   "metadata": {},
   "outputs": [
    {
     "data": {
      "text/plain": [
       "Device Type\n",
       "Reliance Jio JHSD200 MVPD STB                     1685\n",
       "Chrome PC (Cadmium)                               1652\n",
       "Amazon Fire TV Stick 2020 Lite Streaming Stick     679\n",
       "Android DefaultWidevineL3Phone Android Phone       148\n",
       "TCL TV 2022 GTV RT51A Smart TV                      72\n",
       "DefaultWidevineAndroidPhone                         64\n",
       "Xiaomi dangal SmartTV                               61\n",
       "Netflix Linux Firefox Other                          5\n",
       "Amazon Fire TV Stick 2020 + Streaming Stick          4\n",
       "Name: count, dtype: int64"
      ]
     },
     "execution_count": 250,
     "metadata": {},
     "output_type": "execute_result"
    }
   ],
   "source": [
    "df['Device Type'].value_counts()"
   ]
  },
  {
   "cell_type": "code",
   "execution_count": 251,
   "id": "a16a5fd1",
   "metadata": {},
   "outputs": [
    {
     "data": {
      "image/png": "[encoded data removed]",
      "text/plain": [
       "<Figure size 640x480 with 1 Axes>"
      ]
     },
     "metadata": {},
     "output_type": "display_data"
    }
   ],
   "source": [
    "df['Device Type'].value_counts().plot(kind = 'bar')\n",
    "plt.show()"
   ]
  },
  {
   "cell_type": "code",
   "execution_count": 252,
   "id": "d80f850b",
   "metadata": {},
   "outputs": [
    {
     "data": {
      "text/plain": [
       "Device Type\n",
       "Chrome PC (Cadmium)                               1565\n",
       "Reliance Jio JHSD200 MVPD STB                     1240\n",
       "Amazon Fire TV Stick 2020 Lite Streaming Stick     670\n",
       "TCL TV 2022 GTV RT51A Smart TV                      71\n",
       "Amazon Fire TV Stick 2020 + Streaming Stick          4\n",
       "DefaultWidevineAndroidPhone                          4\n",
       "Name: count, dtype: int64"
      ]
     },
     "execution_count": 252,
     "metadata": {},
     "output_type": "execute_result"
    }
   ],
   "source": [
    "# These are all the devices that were used to stream on Netflix from the profile Nishu\n",
    "df.loc[df['Profile Name'] == 'Nishu','Device Type'].value_counts()"
   ]
  },
  {
   "cell_type": "code",
   "execution_count": 253,
   "id": "c140152a",
   "metadata": {},
   "outputs": [
    {
     "data": {
      "text/plain": [
       "Device Type\n",
       "Reliance Jio JHSD200 MVPD STB                     441\n",
       "Android DefaultWidevineL3Phone Android Phone      148\n",
       "Chrome PC (Cadmium)                                81\n",
       "DefaultWidevineAndroidPhone                        60\n",
       "Amazon Fire TV Stick 2020 Lite Streaming Stick      7\n",
       "Netflix Linux Firefox Other                         5\n",
       "TCL TV 2022 GTV RT51A Smart TV                      1\n",
       "Name: count, dtype: int64"
      ]
     },
     "execution_count": 253,
     "metadata": {},
     "output_type": "execute_result"
    }
   ],
   "source": [
    "# These are all the devices that were used to stream on Netflix from the profile Mayank\n",
    "df.loc[df['Profile Name'] == 'Mayank','Device Type'].value_counts()"
   ]
  },
  {
   "cell_type": "code",
   "execution_count": 254,
   "id": "fbc127db",
   "metadata": {},
   "outputs": [
    {
     "data": {
      "text/plain": [
       "Device Type\n",
       "Xiaomi dangal SmartTV    61\n",
       "Name: count, dtype: int64"
      ]
     },
     "execution_count": 254,
     "metadata": {},
     "output_type": "execute_result"
    }
   ],
   "source": [
    "# These are all the devices that were used to stream on Netflix from the profile Mohit\n",
    "df.loc[df['Profile Name'] == 'Mohit','Device Type'].value_counts()"
   ]
  },
  {
   "cell_type": "code",
   "execution_count": 255,
   "id": "8788357d",
   "metadata": {},
   "outputs": [
    {
     "data": {
      "text/plain": [
       "Device Type\n",
       "Chrome PC (Cadmium)    6\n",
       "Name: count, dtype: int64"
      ]
     },
     "execution_count": 255,
     "metadata": {},
     "output_type": "execute_result"
    }
   ],
   "source": [
    "# These are all the devices that were used to stream on Netflix from the profile Yash\n",
    "df.loc[df['Profile Name'] == 'Yash','Device Type'].value_counts()"
   ]
  },
  {
   "cell_type": "code",
   "execution_count": 256,
   "id": "339cd2d6",
   "metadata": {},
   "outputs": [
    {
     "data": {
      "text/plain": [
       "Device Type\n",
       "Reliance Jio JHSD200 MVPD STB                     4\n",
       "Amazon Fire TV Stick 2020 Lite Streaming Stick    2\n",
       "Name: count, dtype: int64"
      ]
     },
     "execution_count": 256,
     "metadata": {},
     "output_type": "execute_result"
    }
   ],
   "source": [
    "# These are all the devices that were used to stream on Netflix from the profile Kids\n",
    "df.loc[df['Profile Name'] == 'Kids','Device Type'].value_counts()"
   ]
  },
  {
   "cell_type": "code",
   "execution_count": 257,
   "id": "691904d5",
   "metadata": {},
   "outputs": [
    {
     "data": {
      "text/plain": [
       "Title\n",
       "Demon Slayer: Kimetsu no Yaiba: Tanjiro Kamado, Unwavering Resolve Arc: Cruelty (Episode 1)    10\n",
       "Merry Christmas (Hindi)                                                                        10\n",
       "Saripodhaa Sanivaaram                                                                           9\n",
       "Shehzada                                                                                        9\n",
       "Disturbia                                                                                       8\n",
       "                                                                                               ..\n",
       "Midnight at the Pera Palace: Season 1: Awol (Episode 4)                                         1\n",
       "The Brothers Sun: Season 1: Favor for a Favor (Episode 2)                                       1\n",
       "The Brothers Sun: Season 1: Whatever You Want (Episode 3)                                       1\n",
       "The Brothers Sun: Season 1: Square (Episode 4)                                                  1\n",
       "Black Clover: Season 1: Asta and Yuno (Episode 1)                                               1\n",
       "Name: count, Length: 2128, dtype: int64"
      ]
     },
     "execution_count": 257,
     "metadata": {},
     "output_type": "execute_result"
    }
   ],
   "source": [
    "df['Title'].value_counts()"
   ]
  },
  {
   "cell_type": "code",
   "execution_count": 272,
   "id": "4ee00488",
   "metadata": {},
   "outputs": [],
   "source": [
    "df['Duration'] = pd.to_timedelta(df['Duration'])\n",
    "df['Duration_sec'] = df['Duration'].dt.total_seconds()"
   ]
  },
  {
   "cell_type": "code",
   "execution_count": 273,
   "id": "9e15d33a",
   "metadata": {},
   "outputs": [],
   "source": [
    "df['Show'] = df['Title'].str.extract(r'^(.*?)\\s*:\\s*Season', expand=False)\n",
    "df['Show'] = df['Show'].fillna(df['Title'])\n",
    "df['Show'] = df['Show'].str.strip()"
   ]
  },
  {
   "cell_type": "code",
   "execution_count": 297,
   "id": "53dee90e",
   "metadata": {},
   "outputs": [
    {
     "name": "stdout",
     "output_type": "stream",
     "text": [
      "                                Show  Duration_sec  Duration_hrs\n",
      "532                The Office (U.S.)      508897.0    141.360278\n",
      "376                             Monk      336503.0     93.473056\n",
      "178                          Friends      318325.0     88.423611\n",
      "92                      Breaking Bad      224859.0     62.460833\n",
      "52                  Better Call Saul      198257.0     55.071389\n",
      "276           Hunter X Hunter (2011)      163232.0     45.342222\n",
      "499              The Big Bang Theory      161295.0     44.804167\n",
      "512  The Disastrous Life of Saiki K.      127416.0     35.393333\n",
      "182       GTO: Great Teacher Onizuka      110576.0     30.715556\n",
      "441                   Rick and Morty       84945.0     23.595833\n"
     ]
    }
   ],
   "source": [
    "# Total duration by show\n",
    "total_duration = df.groupby('Show')['Duration_sec'].sum().reset_index()\n",
    "\n",
    "# Sort by most watched\n",
    "total_duration = total_duration.sort_values(by='Duration_sec', ascending=False)\n",
    "# Optional: convert to hours\n",
    "total_duration['Duration_hrs'] = total_duration['Duration_sec'] / 3600\n",
    "\n",
    "print(total_duration.head(10))"
   ]
  },
  {
   "cell_type": "code",
   "execution_count": 303,
   "id": "6c2da3dc",
   "metadata": {},
   "outputs": [
    {
     "data": {
      "text/html": [
       "<div>\n",
       "<style scoped>\n",
       "    .dataframe tbody tr th:only-of-type {\n",
       "        vertical-align: middle;\n",
       "    }\n",
       "\n",
       "    .dataframe tbody tr th {\n",
       "        vertical-align: top;\n",
       "    }\n",
       "\n",
       "    .dataframe thead th {\n",
       "        text-align: right;\n",
       "    }\n",
       "</style>\n",
       "<table border=\"1\" class=\"dataframe\">\n",
       "  <thead>\n",
       "    <tr style=\"text-align: right;\">\n",
       "      <th></th>\n",
       "      <th>Show</th>\n",
       "      <th>Duration_sec</th>\n",
       "      <th>Duration_hrs</th>\n",
       "    </tr>\n",
       "  </thead>\n",
       "  <tbody>\n",
       "    <tr>\n",
       "      <th>532</th>\n",
       "      <td>The Office (U.S.)</td>\n",
       "      <td>508897.0</td>\n",
       "      <td>141.360278</td>\n",
       "    </tr>\n",
       "    <tr>\n",
       "      <th>376</th>\n",
       "      <td>Monk</td>\n",
       "      <td>336503.0</td>\n",
       "      <td>93.473056</td>\n",
       "    </tr>\n",
       "    <tr>\n",
       "      <th>178</th>\n",
       "      <td>Friends</td>\n",
       "      <td>318325.0</td>\n",
       "      <td>88.423611</td>\n",
       "    </tr>\n",
       "    <tr>\n",
       "      <th>92</th>\n",
       "      <td>Breaking Bad</td>\n",
       "      <td>224859.0</td>\n",
       "      <td>62.460833</td>\n",
       "    </tr>\n",
       "    <tr>\n",
       "      <th>52</th>\n",
       "      <td>Better Call Saul</td>\n",
       "      <td>198257.0</td>\n",
       "      <td>55.071389</td>\n",
       "    </tr>\n",
       "    <tr>\n",
       "      <th>276</th>\n",
       "      <td>Hunter X Hunter (2011)</td>\n",
       "      <td>163232.0</td>\n",
       "      <td>45.342222</td>\n",
       "    </tr>\n",
       "    <tr>\n",
       "      <th>499</th>\n",
       "      <td>The Big Bang Theory</td>\n",
       "      <td>161295.0</td>\n",
       "      <td>44.804167</td>\n",
       "    </tr>\n",
       "    <tr>\n",
       "      <th>512</th>\n",
       "      <td>The Disastrous Life of Saiki K.</td>\n",
       "      <td>127416.0</td>\n",
       "      <td>35.393333</td>\n",
       "    </tr>\n",
       "    <tr>\n",
       "      <th>182</th>\n",
       "      <td>GTO: Great Teacher Onizuka</td>\n",
       "      <td>110576.0</td>\n",
       "      <td>30.715556</td>\n",
       "    </tr>\n",
       "    <tr>\n",
       "      <th>441</th>\n",
       "      <td>Rick and Morty</td>\n",
       "      <td>84945.0</td>\n",
       "      <td>23.595833</td>\n",
       "    </tr>\n",
       "  </tbody>\n",
       "</table>\n",
       "</div>"
      ],
      "text/plain": [
       "                                Show  Duration_sec  Duration_hrs\n",
       "532                The Office (U.S.)      508897.0    141.360278\n",
       "376                             Monk      336503.0     93.473056\n",
       "178                          Friends      318325.0     88.423611\n",
       "92                      Breaking Bad      224859.0     62.460833\n",
       "52                  Better Call Saul      198257.0     55.071389\n",
       "276           Hunter X Hunter (2011)      163232.0     45.342222\n",
       "499              The Big Bang Theory      161295.0     44.804167\n",
       "512  The Disastrous Life of Saiki K.      127416.0     35.393333\n",
       "182       GTO: Great Teacher Onizuka      110576.0     30.715556\n",
       "441                   Rick and Morty       84945.0     23.595833"
      ]
     },
     "execution_count": 303,
     "metadata": {},
     "output_type": "execute_result"
    }
   ],
   "source": [
    "top_10_shows = total_duration.sort_values(by='Duration_sec', ascending=False).head(10)\n",
    "top_10_shows"
   ]
  },
  {
   "cell_type": "code",
   "execution_count": 305,
   "id": "f61ffc3b",
   "metadata": {},
   "outputs": [
    {
     "data": {
      "image/png": "[encoded data removed]",
      "text/plain": [
       "<Figure size 1200x600 with 1 Axes>"
      ]
     },
     "metadata": {},
     "output_type": "display_data"
    }
   ],
   "source": [
    "import matplotlib.pyplot as plt\n",
    "top_10_shows = total_duration.sort_values(by='Duration_sec', ascending=False).head(10)\n",
    "plt.figure(figsize=(12, 6))\n",
    "plt.barh(top_10_shows['Show'], top_10_shows['Duration_sec'], color='skyblue')\n",
    "plt.title('Total Watch Time per Show (in seconds)')\n",
    "plt.xlabel('Total Duration (seconds)')\n",
    "plt.ylabel('Show')\n",
    "plt.gca().invert_yaxis()  # optional: puts most-watched at the top\n",
    "plt.tight_layout()\n",
    "plt.show()"
   ]
  },
  {
   "cell_type": "code",
   "execution_count": 281,
   "id": "fdb28d0e",
   "metadata": {},
   "outputs": [
    {
     "data": {
      "text/plain": [
       "Show\n",
       "The Office (U.S.)                  563\n",
       "Friends                            479\n",
       "The Big Bang Theory                228\n",
       "Hunter X Hunter (2011)             222\n",
       "The Disastrous Life of Saiki K.    157\n",
       "GTO: Great Teacher Onizuka         142\n",
       "Rick and Morty                      97\n",
       "VINLAND SAGA                        80\n",
       "Breaking Bad                        76\n",
       "Monster                             44\n",
       "Name: count, dtype: int64"
      ]
     },
     "execution_count": 281,
     "metadata": {},
     "output_type": "execute_result"
    }
   ],
   "source": [
    "df.loc[df['Profile Name'] == 'Nishu','Show'].value_counts().head(10)"
   ]
  },
  {
   "cell_type": "code",
   "execution_count": 288,
   "id": "16e92a81",
   "metadata": {},
   "outputs": [
    {
     "data": {
      "text/plain": [
       "Show\n",
       "Monk                  241\n",
       "Better Call Saul      101\n",
       "Breaking Bad           59\n",
       "House, M.D.            58\n",
       "Ozark                  47\n",
       "Peaky Blinders         41\n",
       "Berserk                37\n",
       "3 Body Problem         15\n",
       "The Lincoln Lawyer     14\n",
       "Kohrra                  8\n",
       "Name: count, dtype: int64"
      ]
     },
     "execution_count": 288,
     "metadata": {},
     "output_type": "execute_result"
    }
   ],
   "source": [
    "df.loc[df['Profile Name'] == 'Mayank','Show'].value_counts().head(10)"
   ]
  },
  {
   "cell_type": "code",
   "execution_count": 291,
   "id": "656fd057",
   "metadata": {},
   "outputs": [
    {
     "name": "stdout",
     "output_type": "stream",
     "text": [
      "Total Duration of all the shows in Days: 57.0\n"
     ]
    }
   ],
   "source": [
    "print('Total Duration of all the shows in Days:',df['Duration_sec'].sum() // 86400)"
   ]
  },
  {
   "cell_type": "code",
   "execution_count": 293,
   "id": "5247bf86",
   "metadata": {},
   "outputs": [
    {
     "data": {
      "text/html": [
       "<div>\n",
       "<style scoped>\n",
       "    .dataframe tbody tr th:only-of-type {\n",
       "        vertical-align: middle;\n",
       "    }\n",
       "\n",
       "    .dataframe tbody tr th {\n",
       "        vertical-align: top;\n",
       "    }\n",
       "\n",
       "    .dataframe thead th {\n",
       "        text-align: right;\n",
       "    }\n",
       "</style>\n",
       "<table border=\"1\" class=\"dataframe\">\n",
       "  <thead>\n",
       "    <tr style=\"text-align: right;\">\n",
       "      <th></th>\n",
       "      <th>Profile Name</th>\n",
       "      <th>Start Time</th>\n",
       "      <th>Duration</th>\n",
       "      <th>Attributes</th>\n",
       "      <th>Title</th>\n",
       "      <th>Supplemental Video Type</th>\n",
       "      <th>Device Type</th>\n",
       "      <th>Bookmark</th>\n",
       "      <th>Latest Bookmark</th>\n",
       "      <th>Country</th>\n",
       "      <th>Duration_sec</th>\n",
       "      <th>Black Clover</th>\n",
       "      <th>Show</th>\n",
       "    </tr>\n",
       "  </thead>\n",
       "  <tbody>\n",
       "    <tr>\n",
       "      <th>6729</th>\n",
       "      <td>Yash</td>\n",
       "      <td>2023-05-18 04:55:57+00:00</td>\n",
       "      <td>0 days 00:07:58</td>\n",
       "      <td>NaN</td>\n",
       "      <td>Black Clover: Season 1: Adversity (Episode 25)</td>\n",
       "      <td>NaN</td>\n",
       "      <td>Chrome PC (Cadmium)</td>\n",
       "      <td>00:21:03</td>\n",
       "      <td>00:21:03</td>\n",
       "      <td>IN (India)</td>\n",
       "      <td>478.0</td>\n",
       "      <td>Black Clover</td>\n",
       "      <td>Black Clover</td>\n",
       "    </tr>\n",
       "    <tr>\n",
       "      <th>6730</th>\n",
       "      <td>Yash</td>\n",
       "      <td>2023-05-18 04:44:42+00:00</td>\n",
       "      <td>0 days 00:08:22</td>\n",
       "      <td>NaN</td>\n",
       "      <td>Black Clover: Season 1: Adversity (Episode 25)</td>\n",
       "      <td>NaN</td>\n",
       "      <td>Chrome PC (Cadmium)</td>\n",
       "      <td>00:11:58</td>\n",
       "      <td>Not latest view</td>\n",
       "      <td>IN (India)</td>\n",
       "      <td>502.0</td>\n",
       "      <td>Black Clover</td>\n",
       "      <td>Black Clover</td>\n",
       "    </tr>\n",
       "    <tr>\n",
       "      <th>6731</th>\n",
       "      <td>Yash</td>\n",
       "      <td>2023-05-18 04:42:56+00:00</td>\n",
       "      <td>0 days 00:00:52</td>\n",
       "      <td>NaN</td>\n",
       "      <td>Black Clover: Season 1: Blackout (Episode 24)</td>\n",
       "      <td>NaN</td>\n",
       "      <td>Chrome PC (Cadmium)</td>\n",
       "      <td>00:20:53</td>\n",
       "      <td>00:20:53</td>\n",
       "      <td>IN (India)</td>\n",
       "      <td>52.0</td>\n",
       "      <td>Black Clover</td>\n",
       "      <td>Black Clover</td>\n",
       "    </tr>\n",
       "    <tr>\n",
       "      <th>6732</th>\n",
       "      <td>Yash</td>\n",
       "      <td>2023-05-18 04:41:50+00:00</td>\n",
       "      <td>0 days 00:00:40</td>\n",
       "      <td>NaN</td>\n",
       "      <td>Black Clover: Season 1: Wounded Beasts (Episod...</td>\n",
       "      <td>NaN</td>\n",
       "      <td>Chrome PC (Cadmium)</td>\n",
       "      <td>00:05:05</td>\n",
       "      <td>Not latest view</td>\n",
       "      <td>IN (India)</td>\n",
       "      <td>40.0</td>\n",
       "      <td>Black Clover</td>\n",
       "      <td>Black Clover</td>\n",
       "    </tr>\n",
       "    <tr>\n",
       "      <th>6733</th>\n",
       "      <td>Yash</td>\n",
       "      <td>2023-05-18 04:40:52+00:00</td>\n",
       "      <td>0 days 00:00:55</td>\n",
       "      <td>NaN</td>\n",
       "      <td>Black Clover: Season 1: Asta and Yuno (Episode 1)</td>\n",
       "      <td>NaN</td>\n",
       "      <td>Chrome PC (Cadmium)</td>\n",
       "      <td>00:00:55</td>\n",
       "      <td>00:00:55</td>\n",
       "      <td>IN (India)</td>\n",
       "      <td>55.0</td>\n",
       "      <td>Black Clover</td>\n",
       "      <td>Black Clover</td>\n",
       "    </tr>\n",
       "  </tbody>\n",
       "</table>\n",
       "</div>"
      ],
      "text/plain": [
       "     Profile Name                Start Time        Duration Attributes  \\\n",
       "6729         Yash 2023-05-18 04:55:57+00:00 0 days 00:07:58        NaN   \n",
       "6730         Yash 2023-05-18 04:44:42+00:00 0 days 00:08:22        NaN   \n",
       "6731         Yash 2023-05-18 04:42:56+00:00 0 days 00:00:52        NaN   \n",
       "6732         Yash 2023-05-18 04:41:50+00:00 0 days 00:00:40        NaN   \n",
       "6733         Yash 2023-05-18 04:40:52+00:00 0 days 00:00:55        NaN   \n",
       "\n",
       "                                                  Title  \\\n",
       "6729     Black Clover: Season 1: Adversity (Episode 25)   \n",
       "6730     Black Clover: Season 1: Adversity (Episode 25)   \n",
       "6731      Black Clover: Season 1: Blackout (Episode 24)   \n",
       "6732  Black Clover: Season 1: Wounded Beasts (Episod...   \n",
       "6733  Black Clover: Season 1: Asta and Yuno (Episode 1)   \n",
       "\n",
       "     Supplemental Video Type          Device Type  Bookmark  Latest Bookmark  \\\n",
       "6729                     NaN  Chrome PC (Cadmium)  00:21:03         00:21:03   \n",
       "6730                     NaN  Chrome PC (Cadmium)  00:11:58  Not latest view   \n",
       "6731                     NaN  Chrome PC (Cadmium)  00:20:53         00:20:53   \n",
       "6732                     NaN  Chrome PC (Cadmium)  00:05:05  Not latest view   \n",
       "6733                     NaN  Chrome PC (Cadmium)  00:00:55         00:00:55   \n",
       "\n",
       "         Country  Duration_sec  Black Clover          Show  \n",
       "6729  IN (India)         478.0  Black Clover  Black Clover  \n",
       "6730  IN (India)         502.0  Black Clover  Black Clover  \n",
       "6731  IN (India)          52.0  Black Clover  Black Clover  \n",
       "6732  IN (India)          40.0  Black Clover  Black Clover  \n",
       "6733  IN (India)          55.0  Black Clover  Black Clover  "
      ]
     },
     "execution_count": 293,
     "metadata": {},
     "output_type": "execute_result"
    }
   ],
   "source": [
    "df.tail()"
   ]
  },
  {
   "cell_type": "code",
   "execution_count": 319,
   "id": "9a9602dc",
   "metadata": {},
   "outputs": [
    {
     "data": {
      "text/html": [
       "<div>\n",
       "<style scoped>\n",
       "    .dataframe tbody tr th:only-of-type {\n",
       "        vertical-align: middle;\n",
       "    }\n",
       "\n",
       "    .dataframe tbody tr th {\n",
       "        vertical-align: top;\n",
       "    }\n",
       "\n",
       "    .dataframe thead th {\n",
       "        text-align: right;\n",
       "    }\n",
       "</style>\n",
       "<table border=\"1\" class=\"dataframe\">\n",
       "  <thead>\n",
       "    <tr style=\"text-align: right;\">\n",
       "      <th></th>\n",
       "      <th>Profile Name</th>\n",
       "      <th>Duration_sec</th>\n",
       "      <th>Duration_hrs</th>\n",
       "    </tr>\n",
       "  </thead>\n",
       "  <tbody>\n",
       "    <tr>\n",
       "      <th>0</th>\n",
       "      <td>Nishu</td>\n",
       "      <td>267253.0</td>\n",
       "      <td>74.236944</td>\n",
       "    </tr>\n",
       "    <tr>\n",
       "      <th>1</th>\n",
       "      <td>Mayank</td>\n",
       "      <td>46924.0</td>\n",
       "      <td>13.034444</td>\n",
       "    </tr>\n",
       "  </tbody>\n",
       "</table>\n",
       "</div>"
      ],
      "text/plain": [
       "  Profile Name  Duration_sec  Duration_hrs\n",
       "0        Nishu      267253.0     74.236944\n",
       "1       Mayank       46924.0     13.034444"
      ]
     },
     "execution_count": 319,
     "metadata": {},
     "output_type": "execute_result"
    }
   ],
   "source": [
    "df['Start Time'] = pd.to_datetime(df['Start Time']) # Converting the Start Time column to datetime format so it can be read easily by pandas.\n",
    "df['Hour'] = df['Start Time'].dt.hour # Extracting 'hour' from the Start Time coloumn.\n",
    "night_to_midnight_df = df[df['Hour'] >= 20] # Filtering for entries from midnight to 8pm. \n",
    "eight_to_midnight_profiles = night_to_midnight_df.groupby('Profile Name')['Duration_sec'].sum().reset_index() # Grouping by profile and getting the total duration in seconds.\n",
    "eight_to_midnight_profiles = eight_to_midnight_profiles.sort_values(by = 'Duration_sec',ascending = False).reset_index(drop = True) # Sorting by most active profiles.\n",
    "eight_to_midnight_profiles['Duration_hrs'] = eight_to_midnight_profiles['Duration_sec'] / 3600 # Converting the duration sum to hours.\n",
    "eight_to_midnight_profiles"
   ]
  },
  {
   "cell_type": "code",
   "execution_count": 324,
   "id": "7b185320",
   "metadata": {},
   "outputs": [
    {
     "data": {
      "image/png": "[encoded data removed]",
      "text/plain": [
       "<Figure size 1200x600 with 1 Axes>"
      ]
     },
     "metadata": {},
     "output_type": "display_data"
    }
   ],
   "source": [
    "import matplotlib.pyplot as plt\n",
    "\n",
    "plt.figure(figsize=(12, 6))\n",
    "plt.barh(eight_to_midnight_profiles['Profile Name'], eight_to_midnight_profiles['Duration_hrs'], color='mediumpurple')\n",
    "plt.xlabel('Total Duration (hours)')\n",
    "plt.ylabel('Profile Name')\n",
    "plt.title('Most Active Profiles Between 8PM and Midnight')\n",
    "plt.gca().invert_yaxis()  # Optional: Most active profiles appear at the top\n",
    "plt.tight_layout()\n",
    "plt.show()"
   ]
  },
  {
   "cell_type": "code",
   "execution_count": 323,
   "id": "d55dd1d1",
   "metadata": {},
   "outputs": [
    {
     "data": {
      "text/html": [
       "<div>\n",
       "<style scoped>\n",
       "    .dataframe tbody tr th:only-of-type {\n",
       "        vertical-align: middle;\n",
       "    }\n",
       "\n",
       "    .dataframe tbody tr th {\n",
       "        vertical-align: top;\n",
       "    }\n",
       "\n",
       "    .dataframe thead th {\n",
       "        text-align: right;\n",
       "    }\n",
       "</style>\n",
       "<table border=\"1\" class=\"dataframe\">\n",
       "  <thead>\n",
       "    <tr style=\"text-align: right;\">\n",
       "      <th></th>\n",
       "      <th>Profile Name</th>\n",
       "      <th>Duration_sec</th>\n",
       "      <th>Duration_hrs</th>\n",
       "    </tr>\n",
       "  </thead>\n",
       "  <tbody>\n",
       "    <tr>\n",
       "      <th>0</th>\n",
       "      <td>Nishu</td>\n",
       "      <td>867323.0</td>\n",
       "      <td>240.923056</td>\n",
       "    </tr>\n",
       "    <tr>\n",
       "      <th>1</th>\n",
       "      <td>Mayank</td>\n",
       "      <td>238584.0</td>\n",
       "      <td>66.273333</td>\n",
       "    </tr>\n",
       "    <tr>\n",
       "      <th>2</th>\n",
       "      <td>Mohit</td>\n",
       "      <td>14947.0</td>\n",
       "      <td>4.151944</td>\n",
       "    </tr>\n",
       "    <tr>\n",
       "      <th>3</th>\n",
       "      <td>Yash</td>\n",
       "      <td>1280.0</td>\n",
       "      <td>0.355556</td>\n",
       "    </tr>\n",
       "  </tbody>\n",
       "</table>\n",
       "</div>"
      ],
      "text/plain": [
       "  Profile Name  Duration_sec  Duration_hrs\n",
       "0        Nishu      867323.0    240.923056\n",
       "1       Mayank      238584.0     66.273333\n",
       "2        Mohit       14947.0      4.151944\n",
       "3         Yash        1280.0      0.355556"
      ]
     },
     "execution_count": 323,
     "metadata": {},
     "output_type": "execute_result"
    }
   ],
   "source": [
    "df['Start Time'] = pd.to_datetime(df['Start Time']) # Converting the Start Time column to datetime format so it can be read easily by pandas.\n",
    "df['Hour'] = df['Start Time'].dt.hour # Extracting 'hour' from the Start Time coloumn.\n",
    "midnight_to_eight_df = df[df['Hour'] <= 8] # Filtering for entries from midnight to 8am. \n",
    "midnight_to_eight_profiles = midnight_to_eight_df.groupby('Profile Name')['Duration_sec'].sum().reset_index() # Grouping by profile and getting the total duration in seconds.\n",
    "midnight_to_eight_profiles = midnight_to_eight_profiles.sort_values(by = 'Duration_sec',ascending = False).reset_index(drop = True) # Sorting by most active profiles.\n",
    "midnight_to_eight_profiles['Duration_hrs'] = midnight_to_eight_profiles['Duration_sec'] / 3600 # Converting the duration sum to hours.\n",
    "midnight_to_eight_profiles"
   ]
  },
  {
   "cell_type": "code",
   "execution_count": 325,
   "id": "14c07769",
   "metadata": {},
   "outputs": [
    {
     "data": {
      "image/png": "[encoded data removed]",
      "text/plain": [
       "<Figure size 1200x600 with 1 Axes>"
      ]
     },
     "metadata": {},
     "output_type": "display_data"
    }
   ],
   "source": [
    "import matplotlib.pyplot as plt\n",
    "\n",
    "plt.figure(figsize=(12, 6))\n",
    "plt.barh(midnight_to_eight_profiles['Profile Name'], midnight_to_eight_profiles['Duration_hrs'], color='mediumpurple')\n",
    "plt.xlabel('Total Duration (hours)')\n",
    "plt.ylabel('Profile Name')\n",
    "plt.title('Most Active Profiles Between Midnight and 8AM')\n",
    "plt.gca().invert_yaxis()  # Optional: Most active profiles appear at the top\n",
    "plt.tight_layout()\n",
    "plt.show()"
   ]
  },
  {
   "cell_type": "code",
   "execution_count": null,
   "id": "f56e3e84",
   "metadata": {},
   "outputs": [],
   "source": []
  }
 ],
 "metadata": {
  "kernelspec": {
   "display_name": "Python 3 (ipykernel)",
   "language": "python",
   "name": "python3"
  },
  "language_info": {
   "codemirror_mode": {
    "name": "ipython",
    "version": 3
   },
   "file_extension": ".py",
   "mimetype": "text/x-python",
   "name": "python",
   "nbconvert_exporter": "python",
   "pygments_lexer": "ipython3",
   "version": "3.11.5"
  }
 },
 "nbformat": 4,
 "nbformat_minor": 5
}
